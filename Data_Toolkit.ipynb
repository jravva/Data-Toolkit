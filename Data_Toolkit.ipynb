{
  "nbformat": 4,
  "nbformat_minor": 0,
  "metadata": {
    "colab": {
      "provenance": []
    },
    "kernelspec": {
      "name": "python3",
      "display_name": "Python 3"
    },
    "language_info": {
      "name": "python"
    }
  },
  "cells": [
    {
      "cell_type": "code",
      "execution_count": null,
      "metadata": {
        "id": "Xdc1nZLQoOWO"
      },
      "outputs": [],
      "source": []
    },
    {
      "cell_type": "markdown",
      "source": [
        "Data Toolkit_Python\n",
        "\n"
      ],
      "metadata": {
        "id": "LYD9AERxoPNO"
      }
    },
    {
      "cell_type": "markdown",
      "source": [
        "1. What is NumPy, and why is it widely used in Python?\n",
        "\n",
        "Ans: NumPy, also known as Numerical Python, is a popular library for numerical computing in Python. It is widely used because it provides efficient, high-level functionalities for working with arrays and matrices. NumPy offers a powerful N-dimensional array object and a collection of functions for linear algebra, statistics, and other mathematical operations. It is particularly useful in scientific computing, data analysis, and machine learning due to its ability to handle large volumes of data and perform complex mathematical computations efficiently. NumPy's array operations are implemented in C and Fortran, which makes them much faster than native Python loops, leading to significant performance improvements."
      ],
      "metadata": {
        "id": "jklKF0EsqID8"
      }
    },
    {
      "cell_type": "markdown",
      "source": [
        "2.  How does broadcasting work in NumPy?\n",
        "\n",
        "Ans: Broadcasting in NumPy refers to the ability of the library to automatically handle operations on arrays with different shapes, making it possible to perform arithmetic operations on arrays that do not initially have the same dimensions. This feature allows NumPy to perform these operations without explicitly converting arrays to match their shapes, which simplifies coding and improves code readability.\n",
        "\n",
        "Here's how broadcasting works in NumPy:\n",
        "\n",
        "    Shape Comparison: It starts with trailing dimensions, comparing the array dimensions element-wise. Two dimensions are compatible if:\n",
        "        They are equal, or\n",
        "        One of them is 1.\n",
        "\n",
        "    Adjusting Dimensions: If the dimensions of the arrays do not match, NumPy tries to 'broadcast' the smaller array across the larger array so that they have compatible shapes. Broadcasting is only possible when the shape of each dimension in the arrays conforms to the rules stated above.\n",
        "\n",
        "    Performing Operations: Once the arrays have compatible shapes, element-wise operations are performed on the corresponding elements of the arrays.\n",
        "\n",
        "For example:\n",
        "\n",
        "import numpy as np\n",
        "\n",
        "a = np.array([1, 2, 3])\n",
        "b = np.array([[1], [2], [3]])\n",
        "\n",
        "# a has shape (3,), and b has shape (3, 1)\n",
        "# After broadcasting, both arrays behave as if they have shape (3, 3)\n",
        "\n",
        "print(a + b)\n",
        "\n",
        "Output:\n",
        "\n",
        "[[2 3 4]\n",
        " [3 4 5]\n",
        " [4 5 6]]\n",
        "\n",
        "In this example, array a was broadcasted to match the shape of array b, treating a as if it were a (3x3) array, where each row is a copy of a. Likewise, b was broadcast to match the shape of a, treating b as if it were a (3x3) array, where each column is a copy of the original b. Once both arrays had compatible shapes, their elements were added together. This demonstrates how broadcasting allows operations between arrays of different, but compatible, shapes by smartly “stretching” the smaller array.\n"
      ],
      "metadata": {
        "id": "TtA7RQtmqb2A"
      }
    },
    {
      "cell_type": "markdown",
      "source": [
        "3. What is a Pandas DataFrame?\n",
        "\n",
        "Ans: A Pandas DataFrame is a two-dimensional, size-mutable, and potentially heterogeneous tabular data structure with labeled axes (rows and columns) in Python. It is one of the most commonly used data structures in data science and analytics, designed to provide a way to store and manipulate structured data with ease.\n",
        "\n",
        "Here are some key features of a Pandas DataFrame:\n",
        "\n",
        "    Labeled Axes: The rows and columns of a DataFrame are labeled with indices and column names, respectively. This makes it easy to refer to specific rows and columns in the data.\n",
        "\n",
        "    Heterogeneous Data Types: A DataFrame can hold data of different types (e.g., integer, string, float) across columns, resembling a spreadsheet or SQL table.\n",
        "\n",
        "    Size Mutability: DataFrames can be easily expanded by adding new columns, and rows can be inserted or deleted.\n",
        "\n",
        "    Powerful Data Manipulation: Pandas provides a wide array of functions to manipulate DataFrame objects for data cleaning, filtering, grouping, and transforming. It supports operations such as merging, joining, and concatenation.\n",
        "\n",
        "    Integrated Time Series Functionality: Pandas has built-in support for handling time series data, which is great for financial or time-based data analysis.\n",
        "\n",
        "    Handling Missing Data: Pandas DataFrames are equipped with tools to manage missing data, allowing users to handle gaps or invalid entries smoothly.\n",
        "\n",
        "Here is a simple example of creating and manipulating a Pandas DataFrame:\n",
        "\n",
        "import pandas as pd\n",
        "\n",
        "# Create a DataFrame from a dictionary\n",
        "data = {'Name': ['Alice', 'Bob', 'Charles'],\n",
        "        'Age': [25, 30, 35],\n",
        "        'City': ['New York', 'San Francisco', 'Los Angeles']}\n",
        "\n",
        "df = pd.DataFrame(data)\n",
        "\n",
        "# Display the DataFrame\n",
        "print(df)\n",
        "\n",
        "# Add a new column\n",
        "df['Salary'] = [70000, 80000, 90000]\n",
        "\n",
        "# Filter entries\n",
        "older_than_30 = df[df['Age'] > 30]\n",
        "\n",
        "print(older_than_30)\n",
        "\n",
        "This will create a DataFrame from the given data dictionary, add a new column, and filter rows where the age is greater than 30.\n",
        "\n",
        "Overall, Pandas DataFrames provide a powerful, flexible, and efficient way to manipulate and analyze structured data.\n"
      ],
      "metadata": {
        "id": "QXhBY0Rxq1Ml"
      }
    },
    {
      "cell_type": "markdown",
      "source": [
        "4.  Explain the use of the groupby() method in Pandas?\n",
        "\n",
        "Ans: The groupby() method in Pandas is a powerful feature used for grouping data and performing operations on these groups as part of data analysis. It involves the process of splitting the data into groups based on some criteria, applying a function to each group independently, and combining the results into a data structure.\n",
        "\n",
        "Here’s how you typically use the groupby() method:\n",
        "\n",
        "    Splitting: The data is divided into separate groups based on one or more criteria. This could be a single column, multiple columns, or even functions that determine the groups.\n",
        "\n",
        "    Applying: Once the data is grouped, a function is applied to each group. This could be an aggregation (summing, taking averages, finding minimum or maximum, etc.), a transformation (standardizing data, filling NAs within groups, etc.), or a filtration (filter out data based on group characteristics).\n",
        "\n",
        "    Combining: Finally, the results of the applied function are combined into a new data structure.\n",
        "\n",
        "The groupby() method allows for concise expression of complex operations on grouped data and is an indispensable tool for data analysis, particularly when dealing with large datasets.\n",
        "Example of using groupby() in Pandas\n",
        "\n",
        "Let’s consider a simple example to demonstrate how groupby() can be used in practice:\n",
        "\n",
        "import pandas as pd\n",
        "\n",
        "# Create sample data\n",
        "data = {\n",
        "    'Department': ['Finance', 'Marketing', 'Finance', 'HR', 'HR', 'Marketing'],\n",
        "    'Employee': ['Bob', 'Alice', 'Charlie', 'David', 'Eva', 'Frank'],\n",
        "    'Salary': [70000, 60000, 50000, 50000, 60000, 45000]\n",
        "}\n",
        "\n",
        "df = pd.DataFrame(data)\n",
        "\n",
        "# Grouping data by Department and calculating average salary\n",
        "average_salary = df.groupby('Department')['Salary'].mean()\n",
        "print(average_salary)\n",
        "\n",
        "Output:\n",
        "\n",
        "Department\n",
        "Finance      60000.0\n",
        "HR           55000.0\n",
        "Marketing    52500.0\n",
        "Name: Salary, dtype: float64\n",
        "\n",
        "In this example, data is split based on the 'Department' column, and the average salary for each department is computed using the mean function. The result is a new Series where the department names are the index, and the values are the calculated averages.\n",
        "\n",
        "Overall, the groupby() method is crucial for segmenting data into meaningful groups and performing descriptive statistics or tailored transformations, enhancing the capabilities to analyze and understand the data efficiently.\n"
      ],
      "metadata": {
        "id": "8Fckv6itrSW9"
      }
    },
    {
      "cell_type": "markdown",
      "source": [
        "5. Why is Seaborn preferred for statistical visualizations?\n",
        "\n",
        "Ans: Seaborn is preferred for statistical visualizations due to several reasons:\n",
        "\n",
        "    User-friendly API: Seaborn's API is designed to be user-friendly and simple, making it easier for users to create complex visualizations with minimal code.\n",
        "\n",
        "    Integration with Pandas: Seaborn integrates seamlessly with Pandas DataFrames, allowing users to leverage the powerful data manipulation capabilities of Pandas.\n",
        "\n",
        "    Built-in statistical functions: Seaborn provides built-in functions for common statistical visualizations such as histograms, scatter plots, and regression plots, making it easy to visualize the distribution and relationships in the data.\n",
        "\n",
        "    Customizable aesthetics: Seaborn offers a variety of themes and color palettes that can be easily customized to create visually appealing and informative plots.\n",
        "\n",
        "    Support for categorical data: Seaborn has robust support for categorical data, which is often challenging to visualize with other libraries.\n",
        "\n",
        "Overall, Seaborn's ease of use, statistical functions, and customization options make it a popular choice for statistical visualizations in Python.\n"
      ],
      "metadata": {
        "id": "uueyn_-Fre_d"
      }
    },
    {
      "cell_type": "markdown",
      "source": [
        "6. What are the differences between NumPy arrays and Python lists?\n",
        "\n",
        "Ans: NumPy arrays and Python lists differ in several key ways:\n",
        "\n",
        "    Fixed Data Type: NumPy arrays require all elements to be of the same data type (e.g., all integers or all floats), which allows for more efficient memory usage and computational performance. Python lists can hold elements of different data types within the same list.\n",
        "\n",
        "    Performance: NumPy arrays provide better performance for numerical computations. This is because NumPy is built in C and provides efficient storage and computation capabilities, whereas Python lists are less efficient for this purpose due to their general-purpose nature and dynamic typing.\n",
        "\n",
        "    Functionality and Operations: NumPy arrays support vectorized operations (element-wise addition, multiplication, etc.), which are not directly available with Python lists. This means operations can be executed on the array elements directly without explicit loops, making code cleaner and faster.\n",
        "\n",
        "    Memory Usage: NumPy arrays have more compact storage than Python lists because they are stored as contiguous memory locations with metadata stored in a separate part of the array. In contrast, Python lists store pointers to the scattered objects in memory, which can increase memory usage.\n",
        "\n",
        "    Size Flexibility: Python lists are dynamic in size; they can grow or shrink as elements are added or removed. NumPy arrays have a fixed size at creation and changing the size of an existing array involves creating a new larger array and copying the data, which is less efficient.\n",
        "\n",
        "    Multi-dimensional Data: While lists can store multi-dimensional data, this is inherently more complex and requires nested lists. NumPy natively supports multi-dimensional arrays (ndarrays), making it easier to manage and process multi-dimensional data efficiently.\n",
        "\n",
        "Overall, due to these differences, NumPy arrays are generally preferred for scientific computing and data manipulation tasks where performance and extensive mathematical operations are required, whereas Python lists are more suited for general-purpose tasks where flexibility in data type and size can be advantageous.\n"
      ],
      "metadata": {
        "id": "ykhntIUCsOci"
      }
    },
    {
      "cell_type": "markdown",
      "source": [
        "7.  What is a heatmap, and when should it be used?\n",
        "\n",
        "Ans: A heatmap is a graphical representation of data where individual values contained in a matrix are represented as colors. It is a powerful tool for visualizing complex data sets, making it easy to understand patterns, correlations, and trends at a glance.\n",
        "\n",
        "Heatmaps are particularly useful in the following scenarios:\n",
        "\n",
        "    Correlation Analysis: One common use of heatmap is to visualize the correlation matrix of data variables. This helps in identifying which variables are positively or negatively related, allowing data analysts and scientists to conduct further analyses on those specific relationships.\n",
        "\n",
        "    Data Density and Distribution: Heatmaps can also be used to visualize the density and distribution of data, making them particularly useful in fields like spatial analysis and genetics (e.g., gene expression levels).\n",
        "\n",
        "    Visualizing Changes over Time: For time series data, heatmaps can be used to show how values change over time. For instance, they can show the usage patterns of a website by hours across different days.\n",
        "\n",
        "    Confusion Matrix: In machine learning, heatmaps are often used to represent confusion matrices which show the performance of classification models by displaying the counts of actual vs predicted classifications.\n",
        "\n",
        "    Cluster Analysis: Heatmaps can visually represent the results of cluster analyses, helping to identify similar groups or patterns among data points based on their color similarities.\n",
        "\n",
        "When creating a heatmap, considerations such as selecting an appropriate color scheme and scale are important to ensure that the visualization accurately and effectively conveys the information. Heatmaps are typically used when the data is too complex or too voluminous, making traditional plots like scatter plots or line graphs less effective.\n"
      ],
      "metadata": {
        "id": "ZinoPEBIsiPE"
      }
    },
    {
      "cell_type": "markdown",
      "source": [
        "8. What does the term “vectorized operation” mean in NumPy?\n",
        "\n",
        "Ans: The term “vectorized operation” in NumPy refers to operations that are performed on arrays (or vectors) in an element-by-element fashion, using highly optimized pre-compiled C code. This allows for very efficient computation without the need for explicit looping in Python, which is considerably slower due to Python's interpreted nature and its inherent overheads such as type checking and function dispatching.\n",
        "\n",
        "Vectorized operations leverage Single Instruction, Multiple Data (SIMD) parallelism that modern processors support, allowing multiple data points to be processed simultaneously. NumPy is specifically designed to facilitate this kind of operation.\n",
        "\n",
        "For example, consider adding two arrays a and b:\n",
        "\n",
        "import numpy as np\n",
        "a = np.array([1, 2, 3])\n",
        "b = np.array([4, 5, 6])\n",
        "c = a + b  # Vectorized addition\n",
        "\n",
        "In the above code, a + b adds corresponding elements of arrays a and b without explicitly writing a loop to go through each element of the arrays. This addition operation is much faster compared to an equivalent Python loop performing the same element-wise addition.\n",
        "Benefits of Vectorized Operations:\n",
        "\n",
        "    Performance: They are much faster than their non-vectorized counterparts (like Python loops) due to internal optimizations and better use of modern CPU features.\n",
        "    Convenience and Code Clarity: Vectorized operations often lead to cleaner and more \"Pythonic\" code. Complex operations can be expressed more simply and with fewer lines of code.\n",
        "    Broadcasting: Vectorized operations in NumPy also support broadcasting, which is a set of rules for applying binary operations (like addition or multiplication) on arrays of different sizes, enabling even more flexible and powerful operations.\n",
        "\n",
        "In summary, vectorized operations are a fundamental feature of NumPy, providing efficient computation and cleaner code, which make NumPy an essential tool for scientific and numerical computing in Python.\n"
      ],
      "metadata": {
        "id": "WCcdeV0Ws0UU"
      }
    },
    {
      "cell_type": "markdown",
      "source": [
        "9. How does Matplotlib differ from Plotly\n",
        "\n",
        "Ans: Matplotlib and Plotly are both popular plotting libraries in Python, but they have several key differences that make them suited to different use cases:\n",
        "\n",
        "    Interactivity:\n",
        "        Matplotlib: Primarily generates static images. While it does have basic interactive features, such as zooming and panning, it's not interactive by nature.\n",
        "        Plotly: Designed for creating interactive plots. Plotly's plots can include interactive features such as hover tools, zooming, panning, and much more, which are particularly useful for web-based dashboards and applications.\n",
        "\n",
        "    Ease of Use:\n",
        "        Matplotlib: It has a more traditional interface similar to MATLAB that some may find verbose. Because of its customization options, plotting something with Matplotlib might require more lines of code.\n",
        "        Plotly: Often considered easier and more intuitive, especially for new users. Plotly is also integrated with Dash (a Python framework for building web applications), which can be advantageous for users looking to quickly build interactive applications.\n",
        "\n",
        "    Output Formats:\n",
        "        Matplotlib: Generates a wide range of static output formats such as PNG, JPEG, SVG, PDF, and so forth. It's highly useful for preparing figures for scientific papers where interactivity is not required.\n",
        "        Plotly: Can output interactive plots that are rendered in web browsers using JavaScript. This includes standalone HTML files, which integrate seamlessly with web applications.\n",
        "\n",
        "    Customization:\n",
        "        Matplotlib: Offers extensive customization options for almost every element of a plot, which is great for creating publication-quality graphs. However, this can also make its API more complex and harder to learn.\n",
        "        Plotly: Provides a decent amount of customization too, though some users find adjusting finer plot details easier in Matplotlib.\n",
        "\n",
        "    Community and Documentation:\n",
        "        Matplotlib: As a longer-established library, it has a large community and extensive documentation. Many examples and tutorials are available, which can be beneficial for solving specific plotting issues or learning the library.\n",
        "        Plotly: Also has a strong community and good documentation, especially for common use cases related to data science and web-based visualizations.\n",
        "\n",
        "    Performance:\n",
        "        Matplotlib: Well-suited for creating a large number of simple plots quickly, and works well with a wide range of backends.\n",
        "        Plotly: Can handle large datasets and high-dimensional data efficiently, especially when rendered in a web browser.\n",
        "\n",
        "Choosing Between Matplotlib and Plotly\n",
        "\n",
        "    Use Matplotlib when you need to create custom, publication-quality figures in static formats, or when you are already familiar with MATLAB-like interfaces.\n",
        "    Use Plotly when you need dynamic, interactive visualizations or are building a web application that requires embedded plots.\n",
        "\n",
        "Both libraries are powerful tools for data visualization in Python, and in many cases, they can be used in conjunction to leverage the strengths of each.\n"
      ],
      "metadata": {
        "id": "_qcEGb2duwka"
      }
    },
    {
      "cell_type": "markdown",
      "source": [
        "10. What is the significance of hierarchical indexing in Pandas?\n",
        "\n",
        "Ans: Hierarchical indexing, also known as multi-level indexing, in Pandas is an important feature allowing data analysts and scientists to manage higher dimensional data using lower dimensional data structures like Series (1D) and DataFrame (2D). The main significance of hierarchical indexing includes:\n",
        "\n",
        "    Multi-Dimensional Data Representation: Hierarchical indexing helps in representing multi-dimensional data within 2D structured objects like DataFrames. It allows users to store and manipulate data with more than two dimensions in a table (much like pivoting a table in SQL or Excel).\n",
        "\n",
        "    Subsetting Flexibility: With hierarchical indices, you can select and subset data more flexibly. You can easily filter by top-level index or dive deeper and handle sub-levels of the index, allowing more granular control over the data.\n",
        "\n",
        "    Grouping and Aggregation: Hierarchical indexing can make data grouping and aggregation tasks more straightforward. Multi-level indices allow for grouping by multiple categories naturally and performing complex aggregations.\n",
        "\n",
        "    Handling Large Data: When dealing with large datasets splitting them into categories (levels in a hierarchical index) can improve performance in data aggregation and transformation. This structuring can leverage efficient data retrieval and manipulation.\n",
        "\n",
        "    Elegant Data Visualization: Hierarchical indexing aids in creating more informative and intuitive visualizations. Since data is already categorized, plotting libraries can exploit these structures to generate multi-variate analysis and grouped charts.\n",
        "\n",
        "    Cross-Sectional Data Analysis: It provides the capability to do cross-sectional analysis (using the .xs() method) effectively by retrieving slices of data across different levels of the hierarchy.\n",
        "\n",
        "    Comprehensive Data Consolidation: Multi-indexing facilitates better organization of data and a clearer thought process about modeling the data structure, making it highly valuable for complex datasets and problems, increasing readability and maintainability of the code.\n",
        "\n",
        "Hierarchical indexing elevates Pandas’ already powerful data manipulation functionalities. It allows for more sophisticated handling and analysis of information, which can be exceptionally useful in domains such as finance, statistics, and many forms of multi-dimensional data analysis. Proper use of hierarchical indexing can lead to cleaner, more efficient, and more intuitive data analysis processes.\n"
      ],
      "metadata": {
        "id": "49hTQbSHu39c"
      }
    },
    {
      "cell_type": "markdown",
      "source": [
        "11. A What is the role of Seaborn’s pairplot() function?\n",
        "\n",
        "Ans: Seaborn's pairplot() function is a powerful utility that creates a grid of scatterplots for visualizing pairwise relationships between multiple variables in a dataset, as well as histograms or Kernel Density Estimations (KDEs) for showing the distribution of each variable along the diagonal. This function is particularly useful for exploring correlations and patterns in the data, providing a comprehensive visual overview of how different variables relate to one another.\n",
        "Key Roles of Seaborn’s pairplot() Function:\n",
        "\n",
        "    Data Exploration:\n",
        "        Pairplot provides an immediate visual summary of the pairwise relationships and distributions in the dataset, making it an invaluable first step in data exploration—especially in the early stages of data analysis where identifying relationships, trends, or anomalies is key.\n",
        "\n",
        "    Feature Understanding:\n",
        "        By examining scatterplots, analysts can get insights into the correlation between variables. Variables that are linearly related usually show a clear pattern in scatterplots, while non-linear or complex relationships may suggest different kinds of analyses or transformations.\n",
        "\n",
        "    Distribution Analysis:\n",
        "        The diagonal of the pairplot grid often shows the distribution of the data for each variable using histograms or KDE plots, which helps in understanding the skewness, outliers, and general spread of the data.\n",
        "\n",
        "    Facilitation of Variable Comparisons:\n",
        "        pairplot() can use color-coding (hue) based on a categorical variable, which helps in comparing how different classes or groups differ concerning two variables at a time. This is particularly useful for tasks like clustering and classification.\n",
        "\n",
        "    Hypothesis Generation:\n",
        "        The visual patterns observed in pairplots can lead to hypotheses about dependencies or impacts between variables. For instance, if two variables display a strong linear relationship, this might suggest a dependency which could be explored in further model-based analyses.\n",
        "\n",
        "Customization and Extended Use:\n",
        "\n",
        "    Customizability: Seaborn allows customization of pairplot() through parameters that lets you change aspects like markers, palette, plot kws (plot keywords like line widths, colors, etc.), and diag kws (diagonal plot customization).\n",
        "\n",
        "    Scalability: It can be scaled with grid sizes, enabling handling of a substantial number of variables (though visual clarity may decrease as the number of variables increases).\n",
        "\n",
        "    Extension: Although pairplot() provides an overview, further, more detailed analysis is often required to explore significant or complex relationships, making it a preparatory or supplementary visualization tool.\n",
        "\n",
        "Overall, Seaborn's pairplot() is a versatile function used broadly in exploratory data analysis for quickly summarizing and probing the interrelationships within a multi-variable dataset, setting the stage for deeper analysis.\n"
      ],
      "metadata": {
        "id": "oZ0wQCyI329w"
      }
    },
    {
      "cell_type": "markdown",
      "source": [
        "12.  What is the purpose of the describe() function in Pandas?\n",
        "\n",
        "Ans: The describe() function in pandas is a very useful and convenient tool for performing a preliminary statistical analysis on numerical columns of a DataFrame or a Series. It generates a summary of central tendency, dispersion, and shape for a dataset's distributions, excluding NaN values. This function helps in quickly understanding the basic statistical details of the data, which is crucial for initial data exploration and analysis.\n",
        "Key Outputs of describe() Function:\n",
        "\n",
        "    Count: Shows the number of non-null entries in each column. This can help identify columns with missing data.\n",
        "    Mean: The average value of each column.\n",
        "    Std (Standard Deviation): Measures the amount of variation or dispersion in the data.\n",
        "    Min (Minimum Value): The lowest value in each column.\n",
        "    25% (First Quartile): The value below which 25% of the data falls.\n",
        "    50% (Median or Second Quartile): The median value of the data.\n",
        "    75% (Third Quartile): The value below which 75% of the data falls.\n",
        "    Max (Maximum Value): The highest value in the dataset.\n",
        "\n",
        "Purpose and Use Cases:\n",
        "\n",
        "    Initial Data Review: Quickly obtaining a statistical summary helps in understanding the scale, center, and spread of the data. This is particularly helpful when initially exploring a new dataset.\n",
        "    Outlier Detection: By reviewing the min, max, and quartile information, one can assess whether there are outliers in the data, which might need further investigation or handling.\n",
        "    Data Cleaning Guidance: Initial statistics can highlight if scaling, transformations, or handling of missing data are necessary before in-depth analysis or modeling.\n",
        "    Feature Engineering: Statistical summaries can guide the creation of new features or the modification of existing ones based on insights derived from the distributions.\n",
        "    Consistency Checks: The describe() function can be used to verify the consistency of datasets, ensuring that aggregations or merges have been performed correctly.\n",
        "\n",
        "Customization:\n",
        "\n",
        "Pandas' describe() function is also customizable:\n",
        "\n",
        "    It can include/exclude certain data types (include and exclude parameters) which can be particularly useful if you want to see summaries for categorical data or specific data types.\n",
        "    The percentiles parameter allows customization of the specific percentiles reported in the summary.\n",
        "\n",
        "Overall, the describe() function serves as a powerful, fast, and easy tool to get an overview of the statistical properties of the data, aiding in making informed decisions on subsequent data processing and analysis tasks.\n"
      ],
      "metadata": {
        "id": "RsvJApyp4GE3"
      }
    },
    {
      "cell_type": "markdown",
      "source": [
        "13.  Why is handling missing data important in Pandas?\n",
        "\n",
        "Ans: Handling missing data is a critical aspect of data preprocessing and analysis in Pandas, as missing values can significantly affect the outcomes of statistical analyses, machine learning models, and data visualizations. Here’s why managing missing data is crucial:\n",
        "\n",
        "    Statistical Accuracy: Many statistical measures and machine learning algorithms do not handle missing values by default and can either fail or produce biased results if the data contains NaNs or null values. For example, computing the mean of a dataset that includes missing values will give a lower mean if the missing data is simply ignored.\n",
        "\n",
        "    Data Integrity: Missing data can indicate data collection problems, data entry errors, or issues with data processing. Addressing these missing values can help ensure the integrity and reliability of the dataset.\n",
        "\n",
        "    Improved Model Performance: In machine learning, models trained on datasets with properly handled missing values typically perform better and have higher predictive accuracy. Missing data can be imputed (filled with substitute values), but the method of imputation can influence model outcomes, so careful consideration is required.\n",
        "\n",
        "    Better Insights and Decision Making: For decision-making processes that rely on data-driven insights, having a complete dataset ensures that decisions are based on the most accurate and comprehensive information possible.\n",
        "\n",
        "    Avoidance of Misleading Visualizations: Visualizations with missing data can lead to misleading interpretations and conclusions. Handling missing data appropriately ensures that the visualizations accurately reflect the underlying data.\n",
        "\n",
        "Common Techniques for Handling Missing Data in Pandas:\n",
        "\n",
        "    Removing Data: This involves dropping rows or columns with missing values. It is a straightforward approach but can lead to loss of valuable information, especially if the dataset isn't large.\n",
        "\n",
        "    Imputation: This method involves replacing missing values with substitute values such as the mean, median, mode, or a constant value. More sophisticated imputation techniques might predict missing values based on other data present in the dataset.\n",
        "\n",
        "    Flagging and Filling: Sometimes it's useful to add a binary flag to indicate whether a value was missing and subsequently fill the missing value with an imputed or constant value.\n",
        "\n",
        "    Using Algorithms that Support Missing Values: Some statistical and machine learning algorithms can incorporate missing data naturally. For example, decision trees and random forests can handle missing values without explicit imputation.\n",
        "\n",
        "In summary, handling missing data is indispensable for maintaining data quality, ensuring the robustness of statistical tests and models, and deriving accurate insights from the data. The choice of technique to manage missing data depends on the nature of the data, the amount of missing data, the apparent randomness of the missing data, and the specific requirements of subsequent analysis or modeling tasks.\n"
      ],
      "metadata": {
        "id": "Ej6uQW_B4Uns"
      }
    },
    {
      "cell_type": "markdown",
      "source": [
        "14. A What are the benefits of using Plotly for data visualization?\n",
        "\n",
        "Ans: Plotly, particularly its Python library, Plotly Express, offers numerous benefits for data visualization, making it a popular choice for both basic and advanced data visualization tasks. Here are some of the key advantages:\n",
        "\n",
        "    Interactivity: One of the standout features of Plotly is its support for interactive visualizations. Users can hover over data points, zoom in and out, pan the view, or click to display additional information. This interactivity is extremely beneficial for exploring complex datasets and for enhancing user engagement in web-based applications.\n",
        "\n",
        "    Web Integration: Plotly generates visualizations in HTML and JavaScript, which makes it easy to integrate into web applications. You can embed Plotly graphs in dashboards, blogs, and websites directly, which is ideal for sharing insights with a broad audience.\n",
        "\n",
        "    High-Quality Graphs: Plotly's charts are not only functional but also aesthetically pleasing, with attractive default styles and a high degree of customization available. This makes it suitable for generating visuals for reports and presentations where legibility and visual appeal are important.\n",
        "\n",
        "    Wide Range of Plot Types: Plotly supports a vast array of plot types, including line charts, scatter plots, bar charts, pie charts, bubble charts, histograms, box plots, and more advanced types like contour plots, ternary plots, and 3D charts. This versatility makes it suitable for a wide range of data visualization needs across different fields.\n",
        "\n",
        "    Ease of Use: Plotly Express, a high-level interface for Plotly, allows for straightforward creation of complex visuals with minimal code. This simplifies the process of data visualization, making it accessible even to those who are relatively new to Python or data visualization.\n",
        "\n",
        "    Integration with Data Science Libraries: Plotly integrates seamlessly with popular data manipulation libraries such as Pandas and NumPy, as well as data analysis tools like Jupyter Notebooks. This integration streamlines the workflow from data analysis to visualization.\n",
        "\n",
        "    Real-time Updates: Plotly can handle real-time data, and graphs can be updated dynamically. This feature is incredibly valuable for applications that require real-time monitoring (e.g., dashboards for monitoring metrics in business operations or sensor data in IoT applications).\n",
        "\n",
        "    Collaboration and Sharing: Plotly offers tools like Chart Studio, which support sharing and collaboration on visualizations. Users can share their graphs online with their team or with the broader community, facilitating collaborative data analysis projects.\n",
        "\n",
        "    Responsive and Mobile-Friendly: Plotly's graphs are responsive, meaning they adapt to different screen sizes. This is particularly important in a world where data needs to be accessed across various devices, from desktops to tablets to smartphones.\n",
        "\n",
        "Overall, Plotly combines practicality with aesthetic appeal, supporting a comprehensive range of visualization types and integrating well with the web and various data science toolchains, making it a powerful tool for anyone needing to make sense of complex data visually.\n"
      ],
      "metadata": {
        "id": "dxbFZPtU4mnh"
      }
    },
    {
      "cell_type": "markdown",
      "source": [
        "15. A How does NumPy handle multidimensional arrays?\n",
        "\n",
        "Ans: NumPy, which stands for Numerical Python, is a fundamental library for scientific computing in Python. It introduces a powerful n-dimensional array object known as ndarray. Here's how NumPy handles these multidimensional arrays:\n",
        "\n",
        "    Array Structure:\n",
        "        A NumPy ndarray can have multiple dimensions, often referred to as axes. For instance, a 2D array has two axes: one for rows and one for columns. NumPy arrays provide a fast and flexible container for large datasets in Python.\n",
        "\n",
        "    Data Homogeneity:\n",
        "        All elements in a NumPy array are of the same data type (dtype), typically numeric types like int or float, which is efficient for storage and computational speed.\n",
        "\n",
        "    Memory Efficiency:\n",
        "        NumPy arrays are stored in contiguous blocks of memory, making operations on them extremely efficient. This structure also supports vectorized operations, which are operations applied directly to whole arrays rather than their individual elements, leveraging optimized pre-compiled C code under the hood.\n",
        "\n",
        "    Shape Manipulation:\n",
        "        NumPy provides an extensive set of functions to reshape arrays, transpose them, and change their dimensions. Functions such as reshape(), ravel(), flatten(), and transpose() allow for the manipulation of array structures without copying the data, making these operations fast.\n",
        "\n",
        "    Broadcasting:\n",
        "        NumPy can handle operations between arrays with different shapes. Broadcasting is a powerful mechanism that allows NumPy to work with arrays of different shapes when performing arithmetic operations. Rules of broadcasting automatically adjust the shapes of arrays to make their dimensions compatible, enabling operations that would otherwise require explicit looping.\n",
        "\n",
        "    Indexing and Slicing:\n",
        "        Arrays can be indexed and sliced in sophisticated ways. Beyond simple indexing, NumPy allows for slicing, boolean indexing, and fancy indexing, where an array or a list is used to specify indices. This allows for complex data retrieval operations to be executed efficiently.\n",
        "\n",
        "    Vectorization:\n",
        "        NumPy operations are vectorized, which means that operations on arrays are performed element by element, and can be parallelized automatically to improve performance. This alleviates the need for explicit loops in Python, which are computationally less efficient.\n",
        "\n",
        "    Integration with Other Libraries:\n",
        "        NumPy’s array facilities form the backbone of the entire ecosystem of data science tools in Python, making it interoperable with a wide variety of data processing libraries such as Pandas, SciPy, Scikit-learn, Matplotlib, and many others.\n",
        "\n",
        "NumPy’s capabilities in handling multidimensional arrays efficiently are pivotal for performance-critical computing tasks, especially in fields such as linear algebra, statistics, digital image processing, and other large data processing tasks. The combination of ease of use, performance, and broad acceptance makes NumPy the foundational library for scientific computing in Python.\n"
      ],
      "metadata": {
        "id": "L8pnqTxF40nz"
      }
    },
    {
      "cell_type": "markdown",
      "source": [
        "16. What is the role of Bokeh in data visualization?\n",
        "\n",
        "Ans: Bokeh is a powerful and versatile visualization library in Python designed to generate interactive and aesthetically appealing graphics, suitable for modern web browsers. It provides an easy-to-use interface, enabling users to create complex statistical plots quickly and with a minimal amount of code. Here’s how Bokeh serves in the context of data visualization:\n",
        "\n",
        "    Interactive Visualizations:\n",
        "        One of the primary roles of Bokeh is to produce rich, interactive plots that invite users to explore the data more deeply. Interactive elements can include tools like pan, box zoom, wheel zoom, save, reset, hover details, and clickable legends, which enhance the user experience and provide more insightful data exploration.\n",
        "\n",
        "    Flexibility in Output:\n",
        "        Bokeh can output plots in various formats, such as HTML files, notebooks, and server applications, making it highly adaptable for different usage scenarios—from supplemental visuals in data analysis notebooks to standalone interactive dashboards displayed on web pages.\n",
        "\n",
        "    Server-Side Applications:\n",
        "        Bokeh includes a server object model that allows for building interactive web apps directly in Python. This server can handle streaming datasets and real-time data, making it particularly useful for applications that require live updates, such as financial or sensor data monitoring.\n",
        "\n",
        "    Versatility in Visualizations:\n",
        "        Bokeh supports a wide range of plotting types, including line, bar, scatter, heatmap, histogram, and more, allowing for effective representation of various data types and statistical data analysis.\n",
        "\n",
        "    Customizability:\n",
        "        The library offers extensive customization options for plot aesthetics (such as colors, legends, and tools) and interactions, which enables users to tailor their visualizations precisely to the intended audience or specific project requirements.\n",
        "\n",
        "    Large Dataset Handling:\n",
        "        Bokeh efficiently handles large datasets and maintains responsiveness in the interactive visual elements. This feature is critical for working with big data where fast and responsive visualizations are needed without a fall-off in performance.\n",
        "\n",
        "    Pythonic Integration:\n",
        "        Integration with popular data libraries like NumPy, Pandas, SciPy, and others in the Python ecosystem makes Bokeh a convenient choice for data scientists and analysts who already work within the Python environment.\n",
        "\n",
        "    Cross-platform and Device Flexibility:\n",
        "        Since Bokeh visualizations are based on web technologies, they are inherently cross-platform and can be accessed from any web-enabled device, ensuring accessibility and ease of dissemination.\n",
        "\n",
        "    Stylish and Presentation-ready Graphics:\n",
        "        With Bokeh, the focus is not just on the interactive capabilities but also on creating visually appealing charts that can be directly used in presentations or reports.\n",
        "\n",
        "The role of Bokeh in data visualization is to provide an open-source, high-performance framework that brings advanced visualization capabilities to the Python ecosystem, supporting a wide range of applications from simple charts to complex dashboards and data applications. Its ability to blend powerful analytics with dynamic, interactive, and engaging visual displays makes it an invaluable tool in the modern data analyst’s toolkit.\n"
      ],
      "metadata": {
        "id": "f9f9GiNc5CDW"
      }
    },
    {
      "cell_type": "markdown",
      "source": [
        "17.  Explain the difference between apply() and map() in Pandas?\n",
        "\n",
        "Ans: In Pandas, both apply() and map() functions are used to transform data and apply operations across elements in pandas Series and DataFrame objects, but they are intended for slightly different purposes and usages:\n",
        "map() Function:\n",
        "\n",
        "    Usage: map() is a Series method used primarily for element-wise transformation and substitution.\n",
        "    Scope: It can only be applied to a pandas Series (not DataFrame directly).\n",
        "    Flexibility: map() accepts a dictionary, Series, or a function. Dictionaries or Series can be used effectively for substituting each value in a Series with another value.\n",
        "    Behavior with Non-matching Entries: If you use map() with a dictionary or Series and some of the keys are not found in the Series being mapped, those elements will be transformed to NaN.\n",
        "    Example:\n",
        "\n",
        "    s = pd.Series(['cat', 'dog', 'bird'])\n",
        "    s.map({'cat': 'kitten', 'dog': 'puppy'})\n",
        "    # Output: 0    kitten\n",
        "    #         1     puppy\n",
        "    #         2       NaN\n",
        "    #         dtype: object\n",
        "\n",
        "apply() Function:\n",
        "\n",
        "    Usage: apply() is used for applying a function along an axis of the DataFrame or on a Series.\n",
        "    Scope: apply() can be applied both to Series and DataFrames. When used on a DataFrame, you can specify the axis over which to apply the function.\n",
        "    Flexibility: It accepts a function and applies it to all elements in a Series or DataFrame along the specified axis, which allows it to be used for both simple and more complex operations.\n",
        "    Behavior with Non-matching Entries: apply() will apply the function to each element, and its behavior will depend on the function defined (there’s no automatic NaN for non-matching entries as in the case of map()).\n",
        "    Example:\n",
        "\n",
        "    df = pd.DataFrame({'A': [1, 2, 3], 'B': [4, 5, 6]})\n",
        "    df.apply(np.sqrt)\n",
        "    # Output:\n",
        "    #           A         B\n",
        "    #     0  1.000000  2.000000\n",
        "    #     1  1.414214  2.236068\n",
        "    #     2  1.732051  2.449490\n",
        "\n",
        "Key Differences:\n",
        "\n",
        "    Scope: map() is only for Series, while apply() works on both Series and DataFrame.\n",
        "    Flexibility in Functions: map() can map values based on a dictionary or Series in addition to applying functions, unlike apply() which only takes functions.\n",
        "    Element-wise vs. Axis-wise Operation: map() is inherently element-wise for Series, and apply() can operate element-wise or on an entire axis depending on the context.\n",
        "\n",
        "Conclusion:\n",
        "\n",
        "Choose map() when you need a simple element-wise transformation for a Series and particularly if you want to remap values based on a dictionary or Series. Opt for apply() when your transformation is more complex or needs to apply across different axes of a DataFrame, or when you want to use a function that operates on the entire Series or DataFrame slices. Each function caters to different needs and scenarios in data manipulation and transformation in pandas.\n"
      ],
      "metadata": {
        "id": "mj7eg_9m5Sd-"
      }
    },
    {
      "cell_type": "markdown",
      "source": [
        "18. What are some advanced features of NumPy?\n",
        "\n",
        "Ans: NumPy, a cornerstone library for numerical computing in Python, offers a wealth of advanced features that facilitate efficient and powerful data manipulation. Here are some of the advanced features that make NumPy an indispensable tool for data scientists, researchers, and engineers:\n",
        "\n",
        "    Broadcasting:\n",
        "        Broadcasting allows NumPy to work with arrays of different shapes during arithmetic operations. This feature extends the smaller array across the larger array so that they have compatible shapes. Broadcasting provides a means of vectorizing array operations, eliminating the need for looping and leading to significant performance improvements.\n",
        "\n",
        "    Universal Functions (ufuncs):\n",
        "        Universal Functions or ufuncs are functions that operate on ndarrays in an element-by-element fashion, supporting array broadcasting, type casting, and several other features. These are fast vectorized wrappers for simple functions and are designed to replace explicit loops.\n",
        "\n",
        "    Memory-mapped Files:\n",
        "        NumPy can directly manipulate data stored in disk files via memory-mapping, using numpy.memmap. This feature is particularly useful for accessing small segments of large files on disk, without reading the entire file into memory.\n",
        "\n",
        "    Linear Algebra Operations:\n",
        "        NumPy's sub-module numpy.linalg offers a wide range of functions for matrix operations including matrix multiplication, determinant, rank, solving linear equations, eigenvalues, and other matrix functions, which are critical in many scientific computations.\n",
        "\n",
        "    Random Number Generation:\n",
        "        With the numpy.random module, NumPy can efficiently generate random numbers from various statistical distributions, which is essential for simulations, random sampling, and other probabilistic algorithms.\n",
        "\n",
        "    Polynomial Functions:\n",
        "        NumPy has extensive support for polynomial operations, such as polynomial addition, subtraction, multiplication, division, evaluation, and finding roots, through its numpy.polynomial subpackage.\n",
        "\n",
        "    Discrete Fourier Transform (DFT):\n",
        "        NumPy provides the numpy.fft module, an efficient interface to perform fast Fourier transforms, which are crucial in signal processing, image analysis, and other applications that involve frequency analysis.\n",
        "\n",
        "    Masked Arrays:\n",
        "        numpy.ma is an array subclass that handles data arrays with masked data. This allows for operations on data with elements marked as \"bad\" or \"missing\", without having to separately keep track of missing data or incorrect results.\n",
        "\n",
        "    Structured Arrays:\n",
        "        NumPy supports arrays of a \"structured\" dtype. Structured data types are useful when you need to perform computations, while still maintaining complex data aggregates, like rows or records in a database table just in an in-memory computation.\n",
        "\n",
        "    Integration with Fortran, C/C++:\n",
        "        The ability to integrate directly with C/C++ and Fortran code enables NumPy to serve as an intermediate layer, bridging the computational performance of lower-level languages with the convenience of Python, making it highly extensible.\n",
        "\n",
        "    Advanced Indexing Techniques:\n",
        "        NumPy arrays support more sophisticated indexing techniques like integer array indexing and boolean indexing, which allow for high flexibility and performance in data retrieval and manipulation.\n",
        "\n",
        "These advanced features, combined with comprehensive documentation and community support, make NumPy a powerful tool for numerical computing, capable of handling a wide variety of scientific computing needs.\n"
      ],
      "metadata": {
        "id": "hHVQGErL5hNn"
      }
    },
    {
      "cell_type": "markdown",
      "source": [
        "19. How does Pandas simplify time series analysis?\n",
        "\n",
        "Pandas, a versatile and powerful data analysis library in Python, offers robust tools specifically designed to simplify and streamline the handling and analysis of time series data. Here are several ways in which Pandas excels in time series analysis:\n",
        "\n",
        "    Datetime Index:\n",
        "        Pandas provides a specialized index type called DatetimeIndex which makes it easy to manipulate and index data based on timestamps. This index type automatically aligns data by date and time, providing a convenient means to handle and organize time series data.\n",
        "\n",
        "    Time-based Indexing and Slicing:\n",
        "        With DatetimeIndex, time series data can be easily sliced and diced. You can select data by date range, specific dates, or even ranges of dates with great ease, e.g., df['2020-01-01':'2020-01-31'] for filtering data in January 2020.\n",
        "\n",
        "    Resampling:\n",
        "        Pandas supports changing the frequency of time series data using the resample() method, which is extremely powerful for summarizing data, up-sampling (increasing frequency), and down-sampling (decreasing frequency). This makes it simple to compute various statistics summarized over different time intervals (e.g., daily averages, monthly totals).\n",
        "\n",
        "    Time Shifts:\n",
        "        Pandas allows the data to be shifted forward and backward in time using methods like shift() and tshift(). This is particularly useful in financial data analysis for calculating changes over time, such as percentage changes from one period to another.\n",
        "\n",
        "    Rolling and Expanding Window Functions:\n",
        "        Pandas supports rolling window and expanding window calculations, which allow for computing moving averages, moving sums, and other local or cumulative statistics over a rolling window of time. This is handy for smoothing out short-term fluctuations and highlighting longer-term trends or cycles.\n",
        "\n",
        "    Native Handling of Date Objects:\n",
        "        Input parsing and output formatting for dates are inherently supported in Pandas, so it can automatically infer the best date/time format when importing data without needing manual conversion. Functions like to_datetime() can convert strings and other date/time formats into Pandas' Timestamp objects.\n",
        "\n",
        "    Comprehensive Date Range Functionality:\n",
        "        Pandas provides functions like date_range() to generate ranges of datetimes with varying frequencies. This can be used to create date indices for creating time series models or filling up missing date/time periods in datasets.\n",
        "\n",
        "    Holiday and Calendar Functionality:\n",
        "        With the help of third-party libraries such as pandas_market_calendars, Pandas can be used to handle holidays and other special market calendars, which is very useful in financial time series analysis.\n",
        "\n",
        "    Easy Integration with Plotting Libraries:\n",
        "        Pandas integrates smoothly with plotting libraries like Matplotlib and Seaborn, allowing for easy visualization of time series data. This includes automatic formatting and labeling of date axes.\n",
        "\n",
        "By providing these specialized tools and functions, Pandas significantly reduces the complexity typically associated with time series data manipulation and analysis, allowing data scientists and analysts to focus more on extracting insights rather than data wrangling.\n"
      ],
      "metadata": {
        "id": "zwSmtgWl5wMw"
      }
    },
    {
      "cell_type": "markdown",
      "source": [
        "20. What is the role of a pivot table in Pandas?\n",
        "\n",
        "Ans: In Pandas, a pivot table is a powerful tool used for data summarization, allowing for quick and interactive aggregation and transformation of data. The role of a pivot table in Pandas revolves around enabling complex data reshaping and analyses, which are particularly useful in exploratory data analysis and reporting. Here's a detailed look at the role and functionality of pivot tables in Pandas:\n",
        "\n",
        "    Data Aggregation:\n",
        "        Pivot tables in Pandas allow for the aggregation of data based on one or more keys. This makes it easy to summarize complex data, compute group statistics, and perform categorical groupings. For instance, one can easily calculate the average sales by region and by product category using a pivot table.\n",
        "\n",
        "    Multi-level Indexing:\n",
        "        Pivot tables can create a new DataFrame with hierarchical indexing (MultiIndex) on the rows and columns. This facilitates deeper insights into the data by viewing it across multiple dimensions. It essentially turns your flat table into a multi-dimensional table, which is easier to analyze.\n",
        "\n",
        "    Data Transformation:\n",
        "        Pivot tables can be used to reshape the dataset based on the values of specific columns. This transformation can help reveal relationships and patterns that would be less obvious in a flat dataset. For example, transforming a dataset to see how data points compare against two separate factors (like time and condition).\n",
        "\n",
        "    Facilitating Comparison:\n",
        "        By restructuring the data, pivot tables facilitate easy comparison across different dimensions. This is helpful when performing data analysis tasks that require comparing the performance or measurements across different categories or groups.\n",
        "\n",
        "    Enhanced Visualization:\n",
        "        The summarized and structured format of data produced by pivot tables makes it more manageable and interpretable when creating visual representations. Visualizing data that has been pre-summarized using a pivot table can be more illuminating than attempting to visualize raw, ungrouped data.\n",
        "\n",
        "    Filling Missing Data:\n",
        "        When creating a pivot table, Pandas provides the option to fill missing values that might appear in the reshaped table, which can be critical for ensuring the continuity and accuracy of data analyses.\n",
        "\n",
        "    Providing a Basis for Further Analysis:\n",
        "        Often, a pivot table is the starting point for more detailed statistical analysis, machine learning, or other data processing tasks, since it organizes the data into a form that's easier to work with.\n",
        "\n",
        "How to Create a Pivot Table in Pandas:\n",
        "\n",
        "You can create a pivot table in Pandas using the pivot_table method. Here’s a basic example:\n",
        "\n",
        "import pandas as pd\n",
        "import numpy as np\n",
        "\n",
        "# Sample DataFrame\n",
        "df = pd.DataFrame({\n",
        "    \"Date\": [\"2021-01-01\", \"2021-01-02\", \"2021-01-01\", \"2021-01-02\"],\n",
        "    \"Category\": [\"A\", \"A\", \"B\", \"B\"],\n",
        "    \"Values\": [10, 13, 5, 8]\n",
        "})\n",
        "\n",
        "# Creating a pivot table\n",
        "pivot_df = df.pivot_table(values='Values', index='Date', columns='Category', aggfunc=np.sum)\n",
        "\n",
        "print(pivot_df)\n",
        "\n",
        "In this example, the pivot_table summarizes the 'Values' under each 'Category' for each 'Date', aggregating them by summing up in case there are multiple entries for the same category on the same date.\n",
        "\n",
        "In summary, the role of a pivot table in Pandas is central to data summarization and transformation, making it a vital tool for data analysts working with Python. It simplifies the task of analyzing complex and large datasets by providing a structured and summarized view."
      ],
      "metadata": {
        "id": "pgwpbNKl58eU"
      }
    },
    {
      "cell_type": "markdown",
      "source": [
        "21. Why is NumPy’s array slicing faster than Python’s list slicing?\n",
        "\n",
        "Ans: NumPy's array slicing is notably faster than Python's list slicing due to several fundamental differences in how NumPy arrays and Python lists are designed and implemented. Here’s why NumPy array slicing has a performance advantage:\n",
        "\n",
        "    Homogeneous Data Types:\n",
        "        NumPy arrays require all elements to be of the same data type (homogeneous), typically numeric types like integers or floats. This uniformity allows NumPy to store data more compactly and efficiently in memory. In contrast, Python lists can hold elements of different types (heterogeneous), requiring more memory and causing each element to be stored with its own type information and referencing overhead.\n",
        "\n",
        "    Contiguous Memory Allocation:\n",
        "        NumPy arrays are stored in contiguous blocks of memory. This contiguous storage significantly speeds up the access time of array slices since slicing can be done by directly accessing a sub-sequence of memory addresses. Python lists, on the other hand, do not guarantee contiguous memory allocation as they store pointers to objects scattered throughout memory.\n",
        "\n",
        "    Lower-level Functionality for Operations:\n",
        "        NumPy is implemented in C, which is a lower-level language compared to Python. The operations on NumPy arrays, including slicing, are executed in compiled C code, which is much faster than the interpreted Python code used for list operations. This difference in the underlying implementation and execution speed is a significant factor in the enhanced performance of NumPy.\n",
        "\n",
        "    Fewer Overheads:\n",
        "        When slicing an array or a list, Python constructs a new list or a new array. In the case of NumPy, the slicing operation usually returns a view of the original array, not a copy. This avoids the overhead of data copying and speeds up operations involving slicing. However, if modifications are made to these views, they will affect the original array. Python list slicing, however, always creates a new list containing copies of the elements from the original list, incurring data duplication and additional processing time.\n",
        "\n",
        "    Vectorization:\n",
        "        NumPy utilizes vectorized operations, a technique that operates on arrays as a whole, rather than element by element. Thus, operations like slicing can be optimized and executed more efficiently, leveraging advanced CPU capabilities and parallel processing.\n",
        "\n",
        "    Specialized Libraries and Hardware Optimization:\n",
        "        NumPy can leverage other specialized libraries and APIs like Intel MKL, OpenBLAS, or other BLAS (Basic Linear Algebra Subprograms) implementations which further optimize array operations, including slicing, for specific hardware architectures.\n",
        "\n",
        "Because of these reasons, NumPy’s array slicing is not only faster but also more resource-efficient compared to Python list slicing, particularly when dealing with large data volumes, making it highly suitable for data-intensive applications in scientific computing, data science, and engineering. These performance characteristics are part of why NumPy is widely used in the Python ecosystem for numerical computations.\n",
        "\n",
        "\n"
      ],
      "metadata": {
        "id": "lMe5wcJT6Vwc"
      }
    },
    {
      "cell_type": "markdown",
      "source": [
        "22.  What are some common use cases for Seaborn?\n",
        "\n",
        "Ans: Seaborn is a popular Python data visualization library based on matplotlib, which provides an easy-to-use and high-level interface for drawing statistical graphics. Here are some common use cases for Seaborn:\n",
        "\n",
        "    Visualizing distributions: Seaborn provides functions such as distplot, kdeplot, and histplot that can be used to visualize the distribution of a single variable or multiple variables, allowing you to see their shape, spread, and central tendencies.\n",
        "\n",
        "    Comparing relationships between variables: The pairplot function provides a way to plot pairwise relationships across an entire dataset, and the jointplot function allows you to visualize bivariate distributions and includes a regression line by default.\n",
        "\n",
        "    Categorical data analysis: The catplot, boxplot, violinplot, and stripplot functions help in visualizing the distribution of data across different categories, giving insights into the spread and outliers of each category.\n",
        "\n",
        "    Linear regression and correlation: Seaborn provides functions like regplot and lmplot that can be used to quickly visualize linear relationships and fit linear regression models to the data.\n",
        "\n",
        "    Heatmaps: The heatmap function in Seaborn allows you to visualize data in a matrix format, making it easier to see patterns, correlations, and outliers.\n",
        "\n",
        "    Facet grids and pair grids: The library provides the ability to create multi-plot grids with FacetGrid and PairGrid. These allow you to draw multiple plots in a single figure, which is useful for comparing different subsets of the data or for analyzing multiple variables at once.\n",
        "\n",
        "    Time series analysis: Visualize time series data and trends over time with Seaborn's functions, helping in isolating seasonal effects, trends, and other patterns in the data.\n",
        "\n",
        "These use cases make Seaborn a powerful tool for exploratory data analysis, helping data scientists and analysts to understand their data better and derive meaningful insights.\n"
      ],
      "metadata": {
        "id": "EzWUtcOD623e"
      }
    },
    {
      "cell_type": "markdown",
      "source": [
        "Data Toolkit_Practical\n",
        "\n",
        "\n"
      ],
      "metadata": {
        "id": "oM-Hs_Q47fiD"
      }
    },
    {
      "cell_type": "code",
      "source": [
        "# 1. How do you create a 2D NumPy array and calculate the sum of each row?\n",
        "\n",
        "import numpy as np\n",
        "\n",
        "# Creating a 2D NumPy array\n",
        "array_2d = np.array([[1, 2, 3], [4, 5, 6], [7, 8, 9]])\n",
        "\n",
        "# Calculating the sum of each row\n",
        "row_sums = array_2d.sum(axis=1)\n",
        "\n",
        "print(\"Original 2D Array:\")\n",
        "print(array_2d)\n",
        "print(\"Sum of each row:\")\n",
        "print(row_sums)"
      ],
      "metadata": {
        "colab": {
          "base_uri": "https://localhost:8080/"
        },
        "id": "qYYKZK_77nsG",
        "outputId": "3a514929-86c1-4869-f9a7-bd88d3955d86"
      },
      "execution_count": 10,
      "outputs": [
        {
          "output_type": "stream",
          "name": "stdout",
          "text": [
            "Original 2D Array:\n",
            "[[1 2 3]\n",
            " [4 5 6]\n",
            " [7 8 9]]\n",
            "Sum of each row:\n",
            "[ 6 15 24]\n"
          ]
        }
      ]
    },
    {
      "cell_type": "code",
      "source": [
        "#2.  Write a Pandas script to find the mean of a specific column in a DataFrame?\n",
        "import pandas as pd\n",
        "#Creating a sample DataFrame\n",
        "\n",
        "data = {\n",
        "'Name': ['John', 'Sara', 'Tom', 'Lucy'],\n",
        "'Age': [28, 22, 35, 29],\n",
        "'Salary': [50000, 70000, 60000, 75000]\n",
        "}\n",
        "\n",
        "df = pd.DataFrame(data)\n",
        "#Calculate the mean of the 'Age' column\n",
        "\n",
        "mean_age = df['Age'].mean()\n",
        "\n",
        "print(\"Mean Age:\", mean_age)\n"
      ],
      "metadata": {
        "colab": {
          "base_uri": "https://localhost:8080/"
        },
        "id": "QXcl-qJU9Aqi",
        "outputId": "f063d56d-cbcb-41ba-cb3e-d5417b929cca"
      },
      "execution_count": 13,
      "outputs": [
        {
          "output_type": "stream",
          "name": "stdout",
          "text": [
            "Mean Age: 28.5\n"
          ]
        }
      ]
    },
    {
      "cell_type": "code",
      "source": [
        "# 3.  Create a scatter plot using Matplotlib?\n",
        "\n",
        "import matplotlib.pyplot as plt\n",
        "\n",
        "#Sample data\n",
        "\n",
        "x = [1, 2, 3, 4, 5]\n",
        "y = [2, 3, 5, 7, 11]\n",
        "\n",
        "#Create the scatter plot\n",
        "\n",
        "plt.scatter(x, y)\n",
        "\n",
        "#Add titles and labels\n",
        "\n",
        "plt.title('Simple Scatter Plot')\n",
        "plt.xlabel('X Axis')\n",
        "plt.ylabel('Y Axis')\n",
        "Show the plot\n",
        "\n",
        "plt.show()\n"
      ],
      "metadata": {
        "colab": {
          "base_uri": "https://localhost:8080/",
          "height": 106
        },
        "id": "KxXrw7pt96Zi",
        "outputId": "54a229f8-c786-4da3-cf22-0bc6043d6416"
      },
      "execution_count": 22,
      "outputs": [
        {
          "output_type": "error",
          "ename": "SyntaxError",
          "evalue": "invalid syntax (<ipython-input-22-0f57fb1fcb7c>, line 19)",
          "traceback": [
            "\u001b[0;36m  File \u001b[0;32m\"<ipython-input-22-0f57fb1fcb7c>\"\u001b[0;36m, line \u001b[0;32m19\u001b[0m\n\u001b[0;31m    Show the plot\u001b[0m\n\u001b[0m         ^\u001b[0m\n\u001b[0;31mSyntaxError\u001b[0m\u001b[0;31m:\u001b[0m invalid syntax\n"
          ]
        }
      ]
    },
    {
      "cell_type": "code",
      "source": [
        "# 4.  How do you calculate the correlation matrix using Seaborn and visualize it with a heatmap\n",
        "\n",
        "import pandas as pd\n",
        "import seaborn as sns\n",
        "import matplotlib.pyplot as plt\n",
        "\n",
        "# Create a DataFrame\n",
        "data = {\n",
        "    'A': [1, 2, 3, 4, 5],\n",
        "    'B': [2, 3, 2, 4, 5],\n",
        "    'C': [5, 4, 3, 2, 1]\n",
        "}\n",
        "df = pd.DataFrame(data)\n",
        "\n",
        "# Calculate the correlation matrix\n",
        "corr_matrix = df.corr()\n",
        "\n",
        "# Create a heatmap\n",
        "sns.heatmap(corr_matrix, annot=True, cmap='coolwarm')\n",
        "\n",
        "# Add a title\n",
        "plt.title('Correlation Matrix Heatmap')\n",
        "\n",
        "# Show the plot\n",
        "plt.show()"
      ],
      "metadata": {
        "colab": {
          "base_uri": "https://localhost:8080/",
          "height": 452
        },
        "id": "RKrNby_M-4aB",
        "outputId": "0eb0aaab-a1f3-4fa3-a568-119351c712e5"
      },
      "execution_count": 23,
      "outputs": [
        {
          "output_type": "display_data",
          "data": {
            "text/plain": [
              "<Figure size 640x480 with 2 Axes>"
            ],
            "image/png": "[encoded data removed]"
          },
          "metadata": {}
        }
      ]
    },
    {
      "cell_type": "code",
      "source": [
        "# 5.  Generate a bar plot using Plotly?\n",
        "\n",
        "import plotly.express as px\n",
        "\n",
        "# Sample data\n",
        "data = {\n",
        "    'Fruits': ['Apples', 'Oranges', 'Bananas', 'Berries'],\n",
        "    'Sales': [100, 150, 90, 120]\n",
        "}\n",
        "\n",
        "# Create a DataFrame\n",
        "df = pd.DataFrame(data)\n",
        "\n",
        "# Create a bar plot\n",
        "fig = px.bar(df, x='Fruits', y='Sales', title=\"Fruit Sales\")\n",
        "\n",
        "# Show the plot\n",
        "fig.show()"
      ],
      "metadata": {
        "colab": {
          "base_uri": "https://localhost:8080/",
          "height": 542
        },
        "id": "zil-SeUt_KAo",
        "outputId": "8dc9964c-f6d1-4026-bac7-647e8cf2dbea"
      },
      "execution_count": 24,
      "outputs": [
        {
          "output_type": "display_data",
          "data": {
            "text/html": [
              "<html>\n",
              "<head><meta charset=\"utf-8\" /></head>\n",
              "<body>\n",
              "    <div>            <script src=\"https://cdnjs.cloudflare.com/ajax/libs/mathjax/2.7.5/MathJax.js?config=TeX-AMS-MML_SVG\"></script><script type=\"text/javascript\">if (window.MathJax && window.MathJax.Hub && window.MathJax.Hub.Config) {window.MathJax.Hub.Config({SVG: {font: \"STIX-Web\"}});}</script>                <script type=\"text/javascript\">window.PlotlyConfig = {MathJaxConfig: 'local'};</script>\n",
              "        <script charset=\"utf-8\" src=\"https://cdn.plot.ly/plotly-2.35.2.min.js\"></script>                <div id=\"f0cf9d79-7798-47dc-a952-edd5af317a71\" class=\"plotly-graph-div\" style=\"height:525px; width:100%;\"></div>            <script type=\"text/javascript\">                                    window.PLOTLYENV=window.PLOTLYENV || {};                                    if (document.getElementById(\"f0cf9d79-7798-47dc-a952-edd5af317a71\")) {                    Plotly.newPlot(                        \"f0cf9d79-7798-47dc-a952-edd5af317a71\",                        [{\"alignmentgroup\":\"True\",\"hovertemplate\":\"Fruits=%{x}\\u003cbr\\u003eSales=%{y}\\u003cextra\\u003e\\u003c\\u002fextra\\u003e\",\"legendgroup\":\"\",\"marker\":{\"color\":\"#636efa\",\"pattern\":{\"shape\":\"\"}},\"name\":\"\",\"offsetgroup\":\"\",\"orientation\":\"v\",\"showlegend\":false,\"textposition\":\"auto\",\"x\":[\"Apples\",\"Oranges\",\"Bananas\",\"Berries\"],\"xaxis\":\"x\",\"y\":[100,150,90,120],\"yaxis\":\"y\",\"type\":\"bar\"}],                        {\"template\":{\"data\":{\"histogram2dcontour\":[{\"type\":\"histogram2dcontour\",\"colorbar\":{\"outlinewidth\":0,\"ticks\":\"\"},\"colorscale\":[[0.0,\"#0d0887\"],[0.1111111111111111,\"#46039f\"],[0.2222222222222222,\"#7201a8\"],[0.3333333333333333,\"#9c179e\"],[0.4444444444444444,\"#bd3786\"],[0.5555555555555556,\"#d8576b\"],[0.6666666666666666,\"#ed7953\"],[0.7777777777777778,\"#fb9f3a\"],[0.8888888888888888,\"#fdca26\"],[1.0,\"#f0f921\"]]}],\"choropleth\":[{\"type\":\"choropleth\",\"colorbar\":{\"outlinewidth\":0,\"ticks\":\"\"}}],\"histogram2d\":[{\"type\":\"histogram2d\",\"colorbar\":{\"outlinewidth\":0,\"ticks\":\"\"},\"colorscale\":[[0.0,\"#0d0887\"],[0.1111111111111111,\"#46039f\"],[0.2222222222222222,\"#7201a8\"],[0.3333333333333333,\"#9c179e\"],[0.4444444444444444,\"#bd3786\"],[0.5555555555555556,\"#d8576b\"],[0.6666666666666666,\"#ed7953\"],[0.7777777777777778,\"#fb9f3a\"],[0.8888888888888888,\"#fdca26\"],[1.0,\"#f0f921\"]]}],\"heatmap\":[{\"type\":\"heatmap\",\"colorbar\":{\"outlinewidth\":0,\"ticks\":\"\"},\"colorscale\":[[0.0,\"#0d0887\"],[0.1111111111111111,\"#46039f\"],[0.2222222222222222,\"#7201a8\"],[0.3333333333333333,\"#9c179e\"],[0.4444444444444444,\"#bd3786\"],[0.5555555555555556,\"#d8576b\"],[0.6666666666666666,\"#ed7953\"],[0.7777777777777778,\"#fb9f3a\"],[0.8888888888888888,\"#fdca26\"],[1.0,\"#f0f921\"]]}],\"heatmapgl\":[{\"type\":\"heatmapgl\",\"colorbar\":{\"outlinewidth\":0,\"ticks\":\"\"},\"colorscale\":[[0.0,\"#0d0887\"],[0.1111111111111111,\"#46039f\"],[0.2222222222222222,\"#7201a8\"],[0.3333333333333333,\"#9c179e\"],[0.4444444444444444,\"#bd3786\"],[0.5555555555555556,\"#d8576b\"],[0.6666666666666666,\"#ed7953\"],[0.7777777777777778,\"#fb9f3a\"],[0.8888888888888888,\"#fdca26\"],[1.0,\"#f0f921\"]]}],\"contourcarpet\":[{\"type\":\"contourcarpet\",\"colorbar\":{\"outlinewidth\":0,\"ticks\":\"\"}}],\"contour\":[{\"type\":\"contour\",\"colorbar\":{\"outlinewidth\":0,\"ticks\":\"\"},\"colorscale\":[[0.0,\"#0d0887\"],[0.1111111111111111,\"#46039f\"],[0.2222222222222222,\"#7201a8\"],[0.3333333333333333,\"#9c179e\"],[0.4444444444444444,\"#bd3786\"],[0.5555555555555556,\"#d8576b\"],[0.6666666666666666,\"#ed7953\"],[0.7777777777777778,\"#fb9f3a\"],[0.8888888888888888,\"#fdca26\"],[1.0,\"#f0f921\"]]}],\"surface\":[{\"type\":\"surface\",\"colorbar\":{\"outlinewidth\":0,\"ticks\":\"\"},\"colorscale\":[[0.0,\"#0d0887\"],[0.1111111111111111,\"#46039f\"],[0.2222222222222222,\"#7201a8\"],[0.3333333333333333,\"#9c179e\"],[0.4444444444444444,\"#bd3786\"],[0.5555555555555556,\"#d8576b\"],[0.6666666666666666,\"#ed7953\"],[0.7777777777777778,\"#fb9f3a\"],[0.8888888888888888,\"#fdca26\"],[1.0,\"#f0f921\"]]}],\"mesh3d\":[{\"type\":\"mesh3d\",\"colorbar\":{\"outlinewidth\":0,\"ticks\":\"\"}}],\"scatter\":[{\"fillpattern\":{\"fillmode\":\"overlay\",\"size\":10,\"solidity\":0.2},\"type\":\"scatter\"}],\"parcoords\":[{\"type\":\"parcoords\",\"line\":{\"colorbar\":{\"outlinewidth\":0,\"ticks\":\"\"}}}],\"scatterpolargl\":[{\"type\":\"scatterpolargl\",\"marker\":{\"colorbar\":{\"outlinewidth\":0,\"ticks\":\"\"}}}],\"bar\":[{\"error_x\":{\"color\":\"#2a3f5f\"},\"error_y\":{\"color\":\"#2a3f5f\"},\"marker\":{\"line\":{\"color\":\"#E5ECF6\",\"width\":0.5},\"pattern\":{\"fillmode\":\"overlay\",\"size\":10,\"solidity\":0.2}},\"type\":\"bar\"}],\"scattergeo\":[{\"type\":\"scattergeo\",\"marker\":{\"colorbar\":{\"outlinewidth\":0,\"ticks\":\"\"}}}],\"scatterpolar\":[{\"type\":\"scatterpolar\",\"marker\":{\"colorbar\":{\"outlinewidth\":0,\"ticks\":\"\"}}}],\"histogram\":[{\"marker\":{\"pattern\":{\"fillmode\":\"overlay\",\"size\":10,\"solidity\":0.2}},\"type\":\"histogram\"}],\"scattergl\":[{\"type\":\"scattergl\",\"marker\":{\"colorbar\":{\"outlinewidth\":0,\"ticks\":\"\"}}}],\"scatter3d\":[{\"type\":\"scatter3d\",\"line\":{\"colorbar\":{\"outlinewidth\":0,\"ticks\":\"\"}},\"marker\":{\"colorbar\":{\"outlinewidth\":0,\"ticks\":\"\"}}}],\"scattermapbox\":[{\"type\":\"scattermapbox\",\"marker\":{\"colorbar\":{\"outlinewidth\":0,\"ticks\":\"\"}}}],\"scatterternary\":[{\"type\":\"scatterternary\",\"marker\":{\"colorbar\":{\"outlinewidth\":0,\"ticks\":\"\"}}}],\"scattercarpet\":[{\"type\":\"scattercarpet\",\"marker\":{\"colorbar\":{\"outlinewidth\":0,\"ticks\":\"\"}}}],\"carpet\":[{\"aaxis\":{\"endlinecolor\":\"#2a3f5f\",\"gridcolor\":\"white\",\"linecolor\":\"white\",\"minorgridcolor\":\"white\",\"startlinecolor\":\"#2a3f5f\"},\"baxis\":{\"endlinecolor\":\"#2a3f5f\",\"gridcolor\":\"white\",\"linecolor\":\"white\",\"minorgridcolor\":\"white\",\"startlinecolor\":\"#2a3f5f\"},\"type\":\"carpet\"}],\"table\":[{\"cells\":{\"fill\":{\"color\":\"#EBF0F8\"},\"line\":{\"color\":\"white\"}},\"header\":{\"fill\":{\"color\":\"#C8D4E3\"},\"line\":{\"color\":\"white\"}},\"type\":\"table\"}],\"barpolar\":[{\"marker\":{\"line\":{\"color\":\"#E5ECF6\",\"width\":0.5},\"pattern\":{\"fillmode\":\"overlay\",\"size\":10,\"solidity\":0.2}},\"type\":\"barpolar\"}],\"pie\":[{\"automargin\":true,\"type\":\"pie\"}]},\"layout\":{\"autotypenumbers\":\"strict\",\"colorway\":[\"#636efa\",\"#EF553B\",\"#00cc96\",\"#ab63fa\",\"#FFA15A\",\"#19d3f3\",\"#FF6692\",\"#B6E880\",\"#FF97FF\",\"#FECB52\"],\"font\":{\"color\":\"#2a3f5f\"},\"hovermode\":\"closest\",\"hoverlabel\":{\"align\":\"left\"},\"paper_bgcolor\":\"white\",\"plot_bgcolor\":\"#E5ECF6\",\"polar\":{\"bgcolor\":\"#E5ECF6\",\"angularaxis\":{\"gridcolor\":\"white\",\"linecolor\":\"white\",\"ticks\":\"\"},\"radialaxis\":{\"gridcolor\":\"white\",\"linecolor\":\"white\",\"ticks\":\"\"}},\"ternary\":{\"bgcolor\":\"#E5ECF6\",\"aaxis\":{\"gridcolor\":\"white\",\"linecolor\":\"white\",\"ticks\":\"\"},\"baxis\":{\"gridcolor\":\"white\",\"linecolor\":\"white\",\"ticks\":\"\"},\"caxis\":{\"gridcolor\":\"white\",\"linecolor\":\"white\",\"ticks\":\"\"}},\"coloraxis\":{\"colorbar\":{\"outlinewidth\":0,\"ticks\":\"\"}},\"colorscale\":{\"sequential\":[[0.0,\"#0d0887\"],[0.1111111111111111,\"#46039f\"],[0.2222222222222222,\"#7201a8\"],[0.3333333333333333,\"#9c179e\"],[0.4444444444444444,\"#bd3786\"],[0.5555555555555556,\"#d8576b\"],[0.6666666666666666,\"#ed7953\"],[0.7777777777777778,\"#fb9f3a\"],[0.8888888888888888,\"#fdca26\"],[1.0,\"#f0f921\"]],\"sequentialminus\":[[0.0,\"#0d0887\"],[0.1111111111111111,\"#46039f\"],[0.2222222222222222,\"#7201a8\"],[0.3333333333333333,\"#9c179e\"],[0.4444444444444444,\"#bd3786\"],[0.5555555555555556,\"#d8576b\"],[0.6666666666666666,\"#ed7953\"],[0.7777777777777778,\"#fb9f3a\"],[0.8888888888888888,\"#fdca26\"],[1.0,\"#f0f921\"]],\"diverging\":[[0,\"#8e0152\"],[0.1,\"#c51b7d\"],[0.2,\"#de77ae\"],[0.3,\"#f1b6da\"],[0.4,\"#fde0ef\"],[0.5,\"#f7f7f7\"],[0.6,\"#e6f5d0\"],[0.7,\"#b8e186\"],[0.8,\"#7fbc41\"],[0.9,\"#4d9221\"],[1,\"#276419\"]]},\"xaxis\":{\"gridcolor\":\"white\",\"linecolor\":\"white\",\"ticks\":\"\",\"title\":{\"standoff\":15},\"zerolinecolor\":\"white\",\"automargin\":true,\"zerolinewidth\":2},\"yaxis\":{\"gridcolor\":\"white\",\"linecolor\":\"white\",\"ticks\":\"\",\"title\":{\"standoff\":15},\"zerolinecolor\":\"white\",\"automargin\":true,\"zerolinewidth\":2},\"scene\":{\"xaxis\":{\"backgroundcolor\":\"#E5ECF6\",\"gridcolor\":\"white\",\"linecolor\":\"white\",\"showbackground\":true,\"ticks\":\"\",\"zerolinecolor\":\"white\",\"gridwidth\":2},\"yaxis\":{\"backgroundcolor\":\"#E5ECF6\",\"gridcolor\":\"white\",\"linecolor\":\"white\",\"showbackground\":true,\"ticks\":\"\",\"zerolinecolor\":\"white\",\"gridwidth\":2},\"zaxis\":{\"backgroundcolor\":\"#E5ECF6\",\"gridcolor\":\"white\",\"linecolor\":\"white\",\"showbackground\":true,\"ticks\":\"\",\"zerolinecolor\":\"white\",\"gridwidth\":2}},\"shapedefaults\":{\"line\":{\"color\":\"#2a3f5f\"}},\"annotationdefaults\":{\"arrowcolor\":\"#2a3f5f\",\"arrowhead\":0,\"arrowwidth\":1},\"geo\":{\"bgcolor\":\"white\",\"landcolor\":\"#E5ECF6\",\"subunitcolor\":\"white\",\"showland\":true,\"showlakes\":true,\"lakecolor\":\"white\"},\"title\":{\"x\":0.05},\"mapbox\":{\"style\":\"light\"}}},\"xaxis\":{\"anchor\":\"y\",\"domain\":[0.0,1.0],\"title\":{\"text\":\"Fruits\"}},\"yaxis\":{\"anchor\":\"x\",\"domain\":[0.0,1.0],\"title\":{\"text\":\"Sales\"}},\"legend\":{\"tracegroupgap\":0},\"title\":{\"text\":\"Fruit Sales\"},\"barmode\":\"relative\"},                        {\"responsive\": true}                    ).then(function(){\n",
              "                            \n",
              "var gd = document.getElementById('f0cf9d79-7798-47dc-a952-edd5af317a71');\n",
              "var x = new MutationObserver(function (mutations, observer) {{\n",
              "        var display = window.getComputedStyle(gd).display;\n",
              "        if (!display || display === 'none') {{\n",
              "            console.log([gd, 'removed!']);\n",
              "            Plotly.purge(gd);\n",
              "            observer.disconnect();\n",
              "        }}\n",
              "}});\n",
              "\n",
              "// Listen for the removal of the full notebook cells\n",
              "var notebookContainer = gd.closest('#notebook-container');\n",
              "if (notebookContainer) {{\n",
              "    x.observe(notebookContainer, {childList: true});\n",
              "}}\n",
              "\n",
              "// Listen for the clearing of the current output cell\n",
              "var outputEl = gd.closest('.output');\n",
              "if (outputEl) {{\n",
              "    x.observe(outputEl, {childList: true});\n",
              "}}\n",
              "\n",
              "                        })                };                            </script>        </div>\n",
              "</body>\n",
              "</html>"
            ]
          },
          "metadata": {}
        }
      ]
    },
    {
      "cell_type": "code",
      "source": [
        "# 6. Create a DataFrame and add a new column based on an existing column?\n",
        "\n",
        "import pandas as pd\n",
        "\n",
        "# Create a sample DataFrame\n",
        "data = {\n",
        "    'Name': ['John', 'Sara', 'Tom', 'Lucy'],\n",
        "    'Age': [28, 22, 35, 29]\n",
        "}\n",
        "df = pd.DataFrame(data)\n",
        "\n",
        "# Add a new column 'Age Group' based on the 'Age' column\n",
        "df['Age Group'] = ['Young' if age < 30 else 'Mature' for age in df['Age']]\n",
        "\n",
        "# Display the updated DataFrame\n",
        "print(df)"
      ],
      "metadata": {
        "colab": {
          "base_uri": "https://localhost:8080/"
        },
        "id": "2XlCJkiB_jLa",
        "outputId": "d3359e21-a0fb-4f7c-fb54-43bd189426d6"
      },
      "execution_count": 25,
      "outputs": [
        {
          "output_type": "stream",
          "name": "stdout",
          "text": [
            "   Name  Age Age Group\n",
            "0  John   28     Young\n",
            "1  Sara   22     Young\n",
            "2   Tom   35    Mature\n",
            "3  Lucy   29     Young\n"
          ]
        }
      ]
    },
    {
      "cell_type": "code",
      "source": [
        "# 7.  Write a program to perform element-wise multiplication of two NumPy arrays?\n",
        "\n",
        "import numpy as np\n",
        "\n",
        "# Create two NumPy arrays\n",
        "array1 = np.array([1, 2, 3])\n",
        "array2 = np.array([4, 5, 6])\n",
        "\n",
        "# Element-wise multiplication\n",
        "result = array1 * array2\n",
        "\n",
        "# Print the result\n",
        "print(\"Result of element-wise multiplication:\", result)"
      ],
      "metadata": {
        "colab": {
          "base_uri": "https://localhost:8080/"
        },
        "id": "7YPKuLDsAMlg",
        "outputId": "8ffba983-f83f-4ce9-eadf-4d41a57ba901"
      },
      "execution_count": 26,
      "outputs": [
        {
          "output_type": "stream",
          "name": "stdout",
          "text": [
            "Result of element-wise multiplication: [ 4 10 18]\n"
          ]
        }
      ]
    },
    {
      "cell_type": "code",
      "source": [
        "# 8. Create a line plot with multiple lines using Matplotlib?\n",
        "\n",
        "import matplotlib.pyplot as plt\n",
        "\n",
        "# Sample data for three lines\n",
        "x = range(1, 6)\n",
        "y1 = [1, 4, 6, 8, 10]\n",
        "y2 = [2, 2, 5, 7, 9]\n",
        "y3 = [3, 5, 7, 9, 11]\n",
        "\n",
        "# Create multiple line plots\n",
        "plt.plot(x, y1, label='Line 1', color='red', linestyle='-')  # Line 1\n",
        "plt.plot(x, y2, label='Line 2', color='green', linestyle='--')  # Line 2\n",
        "plt.plot(x, y3, label='Line 3', color='blue', linestyle='-.')  # Line 3\n",
        "\n",
        "# Adding labels and title\n",
        "plt.xlabel('X Axis Label')\n",
        "plt.ylabel('Y Axis Label')\n",
        "plt.title('Multiple Line Plot')\n",
        "\n",
        "# Adding a legend\n",
        "plt.legend()\n",
        "\n",
        "# Show the plot\n",
        "plt.show()"
      ],
      "metadata": {
        "colab": {
          "base_uri": "https://localhost:8080/",
          "height": 472
        },
        "id": "XW2LVmurAaL4",
        "outputId": "e02dd7fe-77b1-427e-8b4a-60ee50462a90"
      },
      "execution_count": 27,
      "outputs": [
        {
          "output_type": "display_data",
          "data": {
            "text/plain": [
              "<Figure size 640x480 with 1 Axes>"
            ],
            "image/png": "[encoded data removed]"
          },
          "metadata": {}
        }
      ]
    },
    {
      "cell_type": "code",
      "source": [
        "# 9. Generate a Pandas DataFrame and filter rows where a column value is greater than a threshold?\n",
        "\n",
        "import pandas as pd\n",
        "\n",
        "# Create a sample DataFrame\n",
        "data = {\n",
        "    'Name': ['John', 'Sara', 'Tom', 'Lucy', 'Mike'],\n",
        "    'Age': [28, 22, 35, 29, 15],\n",
        "    'Salary': [50000, 70000, 60000, 75000, 40000]\n",
        "}\n",
        "df = pd.DataFrame(data)\n",
        "\n",
        "# Define the threshold\n",
        "age_threshold = 25\n",
        "\n",
        "# Filter rows where the age is greater than the threshold\n",
        "filtered_df = df[df['Age'] > age_threshold]\n",
        "\n",
        "# Print the original DataFrame\n",
        "print(\"Original DataFrame:\")\n",
        "print(df)\n",
        "\n",
        "# Print the filtered DataFrame\n",
        "print(\"\\nFiltered DataFrame (Age > 25):\")\n",
        "print(filtered_df)"
      ],
      "metadata": {
        "colab": {
          "base_uri": "https://localhost:8080/"
        },
        "id": "Os-Qr34JAqmg",
        "outputId": "eec73bc5-96ad-40aa-e6a8-c05d7d8693d6"
      },
      "execution_count": 28,
      "outputs": [
        {
          "output_type": "stream",
          "name": "stdout",
          "text": [
            "Original DataFrame:\n",
            "   Name  Age  Salary\n",
            "0  John   28   50000\n",
            "1  Sara   22   70000\n",
            "2   Tom   35   60000\n",
            "3  Lucy   29   75000\n",
            "4  Mike   15   40000\n",
            "\n",
            "Filtered DataFrame (Age > 25):\n",
            "   Name  Age  Salary\n",
            "0  John   28   50000\n",
            "2   Tom   35   60000\n",
            "3  Lucy   29   75000\n"
          ]
        }
      ]
    },
    {
      "cell_type": "code",
      "source": [
        "# 10. Create a histogram using Seaborn to visualize a distribution?\n",
        "\n",
        "import seaborn as sns\n",
        "import matplotlib.pyplot as plt\n",
        "\n",
        "# Sample data\n",
        "data = [1, 2, 2, 3, 3, 3, 4, 4, 4, 4, 5, 5, 5, 5, 5]\n",
        "\n",
        "# Create the histogram\n",
        "sns.histplot(data, kde=True, color='blue', bins=5)\n",
        "\n",
        "# Adding labels and title\n",
        "plt.xlabel('Values')\n",
        "plt.ylabel('Frequency')\n",
        "plt.title('Histogram of Data Distribution')\n",
        "\n",
        "# Show the plot\n",
        "plt.show()"
      ],
      "metadata": {
        "colab": {
          "base_uri": "https://localhost:8080/",
          "height": 472
        },
        "id": "FcaAsPQBA74r",
        "outputId": "7a6303e9-bf65-4b31-96c6-a413f7d9e5dc"
      },
      "execution_count": 29,
      "outputs": [
        {
          "output_type": "display_data",
          "data": {
            "text/plain": [
              "<Figure size 640x480 with 1 Axes>"
            ],
            "image/png": "[encoded data removed]"
          },
          "metadata": {}
        }
      ]
    },
    {
      "cell_type": "code",
      "source": [
        "# 11. A Perform matrix multiplication using NumPy?\n",
        "\n",
        "import numpy as np\n",
        "\n",
        "# Define two matrices\n",
        "matrix1 = np.array([[1, 2, 3], [4, 5, 6]])\n",
        "matrix2 = np.array([[7, 8], [9, 10], [11, 12]])\n",
        "\n",
        "# Multiply matrices\n",
        "result = np.dot(matrix1, matrix2)\n",
        "\n",
        "# Print the result\n",
        "print(result)"
      ],
      "metadata": {
        "colab": {
          "base_uri": "https://localhost:8080/"
        },
        "id": "lFCuaFTMBKE7",
        "outputId": "860614fc-85af-4eda-f0bd-28b98032175f"
      },
      "execution_count": 39,
      "outputs": [
        {
          "output_type": "stream",
          "name": "stdout",
          "text": [
            "[[ 58  64]\n",
            " [139 154]]\n"
          ]
        }
      ]
    },
    {
      "cell_type": "code",
      "source": [
        "# 12. A Use Pandas to load a CSV file and display its first 5 rows?\n",
        "\n",
        "#To load a CSV file and display its first 5 rows using Pandas, you can use the following code:\n",
        "\n",
        "import pandas as pd\n",
        "\n",
        "# Load the CSV file into a DataFrame\n",
        "#df = pd.read_csv('path_to_your_file.csv')\n",
        "\n",
        "# Display the first 5 rows of the DataFrame\n",
        "print(df.head())\n",
        "\n",
        "#Explanation:\n",
        "\n",
        "    #pd.read_csv('path_to_your_file.csv'): Loads the CSV file into a Pandas DataFrame.\n",
        "    #df.head(): Displays the first 5 rows of the DataFrame.\n",
        "\n",
        "#Just replace 'path_to_your_file.csv' with the actual path to your CSV file.\n",
        "\n",
        "#Let me know if you need help with anything else!\n"
      ],
      "metadata": {
        "colab": {
          "base_uri": "https://localhost:8080/"
        },
        "id": "WOoFW7vKEakO",
        "outputId": "41f6423b-24a8-42d7-f77d-0d1a689134a9"
      },
      "execution_count": 45,
      "outputs": [
        {
          "output_type": "stream",
          "name": "stdout",
          "text": [
            "   Name  Age  Salary\n",
            "0  John   28   50000\n",
            "1  Sara   22   70000\n",
            "2   Tom   35   60000\n",
            "3  Lucy   29   75000\n",
            "4  Mike   15   40000\n"
          ]
        }
      ]
    },
    {
      "cell_type": "code",
      "source": [
        "# 13.  Create a 3D scatter plot using Plotly.\n",
        "\n",
        "#To create a 3D scatter plot using Plotly, you'll need to have the Plotly library installed. Here's an example of how to create a basic 3D scatter plot:\n",
        "\n",
        "import plotly.express as px\n",
        "import pandas as pd\n",
        "\n",
        "# Example data for 3D scatter plot\n",
        "data = {\n",
        "    'x': [1, 2, 3, 4, 5],\n",
        "    'y': [10, 11, 12, 13, 14],\n",
        "    'z': [100, 200, 300, 400, 500]\n",
        "}\n",
        "\n",
        "# Create a DataFrame\n",
        "df = pd.DataFrame(data)\n",
        "\n",
        "# Create a 3D scatter plot\n",
        "fig = px.scatter_3d(df, x='x', y='y', z='z', title=\"3D Scatter Plot\")\n",
        "\n",
        "# Show the plot\n",
        "fig.show()\n"
      ],
      "metadata": {
        "colab": {
          "base_uri": "https://localhost:8080/",
          "height": 542
        },
        "id": "AlSjHEkiGIIC",
        "outputId": "0106bd15-0684-4b2d-8042-7fe3ec4645a0"
      },
      "execution_count": 46,
      "outputs": [
        {
          "output_type": "display_data",
          "data": {
            "text/html": [
              "<html>\n",
              "<head><meta charset=\"utf-8\" /></head>\n",
              "<body>\n",
              "    <div>            <script src=\"https://cdnjs.cloudflare.com/ajax/libs/mathjax/2.7.5/MathJax.js?config=TeX-AMS-MML_SVG\"></script><script type=\"text/javascript\">if (window.MathJax && window.MathJax.Hub && window.MathJax.Hub.Config) {window.MathJax.Hub.Config({SVG: {font: \"STIX-Web\"}});}</script>                <script type=\"text/javascript\">window.PlotlyConfig = {MathJaxConfig: 'local'};</script>\n",
              "        <script charset=\"utf-8\" src=\"https://cdn.plot.ly/plotly-2.35.2.min.js\"></script>                <div id=\"12a455ba-ed96-4788-9da1-073383beb1fe\" class=\"plotly-graph-div\" style=\"height:525px; width:100%;\"></div>            <script type=\"text/javascript\">                                    window.PLOTLYENV=window.PLOTLYENV || {};                                    if (document.getElementById(\"12a455ba-ed96-4788-9da1-073383beb1fe\")) {                    Plotly.newPlot(                        \"12a455ba-ed96-4788-9da1-073383beb1fe\",                        [{\"hovertemplate\":\"x=%{x}\\u003cbr\\u003ey=%{y}\\u003cbr\\u003ez=%{z}\\u003cextra\\u003e\\u003c\\u002fextra\\u003e\",\"legendgroup\":\"\",\"marker\":{\"color\":\"#636efa\",\"symbol\":\"circle\"},\"mode\":\"markers\",\"name\":\"\",\"scene\":\"scene\",\"showlegend\":false,\"x\":[1,2,3,4,5],\"y\":[10,11,12,13,14],\"z\":[100,200,300,400,500],\"type\":\"scatter3d\"}],                        {\"template\":{\"data\":{\"histogram2dcontour\":[{\"type\":\"histogram2dcontour\",\"colorbar\":{\"outlinewidth\":0,\"ticks\":\"\"},\"colorscale\":[[0.0,\"#0d0887\"],[0.1111111111111111,\"#46039f\"],[0.2222222222222222,\"#7201a8\"],[0.3333333333333333,\"#9c179e\"],[0.4444444444444444,\"#bd3786\"],[0.5555555555555556,\"#d8576b\"],[0.6666666666666666,\"#ed7953\"],[0.7777777777777778,\"#fb9f3a\"],[0.8888888888888888,\"#fdca26\"],[1.0,\"#f0f921\"]]}],\"choropleth\":[{\"type\":\"choropleth\",\"colorbar\":{\"outlinewidth\":0,\"ticks\":\"\"}}],\"histogram2d\":[{\"type\":\"histogram2d\",\"colorbar\":{\"outlinewidth\":0,\"ticks\":\"\"},\"colorscale\":[[0.0,\"#0d0887\"],[0.1111111111111111,\"#46039f\"],[0.2222222222222222,\"#7201a8\"],[0.3333333333333333,\"#9c179e\"],[0.4444444444444444,\"#bd3786\"],[0.5555555555555556,\"#d8576b\"],[0.6666666666666666,\"#ed7953\"],[0.7777777777777778,\"#fb9f3a\"],[0.8888888888888888,\"#fdca26\"],[1.0,\"#f0f921\"]]}],\"heatmap\":[{\"type\":\"heatmap\",\"colorbar\":{\"outlinewidth\":0,\"ticks\":\"\"},\"colorscale\":[[0.0,\"#0d0887\"],[0.1111111111111111,\"#46039f\"],[0.2222222222222222,\"#7201a8\"],[0.3333333333333333,\"#9c179e\"],[0.4444444444444444,\"#bd3786\"],[0.5555555555555556,\"#d8576b\"],[0.6666666666666666,\"#ed7953\"],[0.7777777777777778,\"#fb9f3a\"],[0.8888888888888888,\"#fdca26\"],[1.0,\"#f0f921\"]]}],\"heatmapgl\":[{\"type\":\"heatmapgl\",\"colorbar\":{\"outlinewidth\":0,\"ticks\":\"\"},\"colorscale\":[[0.0,\"#0d0887\"],[0.1111111111111111,\"#46039f\"],[0.2222222222222222,\"#7201a8\"],[0.3333333333333333,\"#9c179e\"],[0.4444444444444444,\"#bd3786\"],[0.5555555555555556,\"#d8576b\"],[0.6666666666666666,\"#ed7953\"],[0.7777777777777778,\"#fb9f3a\"],[0.8888888888888888,\"#fdca26\"],[1.0,\"#f0f921\"]]}],\"contourcarpet\":[{\"type\":\"contourcarpet\",\"colorbar\":{\"outlinewidth\":0,\"ticks\":\"\"}}],\"contour\":[{\"type\":\"contour\",\"colorbar\":{\"outlinewidth\":0,\"ticks\":\"\"},\"colorscale\":[[0.0,\"#0d0887\"],[0.1111111111111111,\"#46039f\"],[0.2222222222222222,\"#7201a8\"],[0.3333333333333333,\"#9c179e\"],[0.4444444444444444,\"#bd3786\"],[0.5555555555555556,\"#d8576b\"],[0.6666666666666666,\"#ed7953\"],[0.7777777777777778,\"#fb9f3a\"],[0.8888888888888888,\"#fdca26\"],[1.0,\"#f0f921\"]]}],\"surface\":[{\"type\":\"surface\",\"colorbar\":{\"outlinewidth\":0,\"ticks\":\"\"},\"colorscale\":[[0.0,\"#0d0887\"],[0.1111111111111111,\"#46039f\"],[0.2222222222222222,\"#7201a8\"],[0.3333333333333333,\"#9c179e\"],[0.4444444444444444,\"#bd3786\"],[0.5555555555555556,\"#d8576b\"],[0.6666666666666666,\"#ed7953\"],[0.7777777777777778,\"#fb9f3a\"],[0.8888888888888888,\"#fdca26\"],[1.0,\"#f0f921\"]]}],\"mesh3d\":[{\"type\":\"mesh3d\",\"colorbar\":{\"outlinewidth\":0,\"ticks\":\"\"}}],\"scatter\":[{\"fillpattern\":{\"fillmode\":\"overlay\",\"size\":10,\"solidity\":0.2},\"type\":\"scatter\"}],\"parcoords\":[{\"type\":\"parcoords\",\"line\":{\"colorbar\":{\"outlinewidth\":0,\"ticks\":\"\"}}}],\"scatterpolargl\":[{\"type\":\"scatterpolargl\",\"marker\":{\"colorbar\":{\"outlinewidth\":0,\"ticks\":\"\"}}}],\"bar\":[{\"error_x\":{\"color\":\"#2a3f5f\"},\"error_y\":{\"color\":\"#2a3f5f\"},\"marker\":{\"line\":{\"color\":\"#E5ECF6\",\"width\":0.5},\"pattern\":{\"fillmode\":\"overlay\",\"size\":10,\"solidity\":0.2}},\"type\":\"bar\"}],\"scattergeo\":[{\"type\":\"scattergeo\",\"marker\":{\"colorbar\":{\"outlinewidth\":0,\"ticks\":\"\"}}}],\"scatterpolar\":[{\"type\":\"scatterpolar\",\"marker\":{\"colorbar\":{\"outlinewidth\":0,\"ticks\":\"\"}}}],\"histogram\":[{\"marker\":{\"pattern\":{\"fillmode\":\"overlay\",\"size\":10,\"solidity\":0.2}},\"type\":\"histogram\"}],\"scattergl\":[{\"type\":\"scattergl\",\"marker\":{\"colorbar\":{\"outlinewidth\":0,\"ticks\":\"\"}}}],\"scatter3d\":[{\"type\":\"scatter3d\",\"line\":{\"colorbar\":{\"outlinewidth\":0,\"ticks\":\"\"}},\"marker\":{\"colorbar\":{\"outlinewidth\":0,\"ticks\":\"\"}}}],\"scattermapbox\":[{\"type\":\"scattermapbox\",\"marker\":{\"colorbar\":{\"outlinewidth\":0,\"ticks\":\"\"}}}],\"scatterternary\":[{\"type\":\"scatterternary\",\"marker\":{\"colorbar\":{\"outlinewidth\":0,\"ticks\":\"\"}}}],\"scattercarpet\":[{\"type\":\"scattercarpet\",\"marker\":{\"colorbar\":{\"outlinewidth\":0,\"ticks\":\"\"}}}],\"carpet\":[{\"aaxis\":{\"endlinecolor\":\"#2a3f5f\",\"gridcolor\":\"white\",\"linecolor\":\"white\",\"minorgridcolor\":\"white\",\"startlinecolor\":\"#2a3f5f\"},\"baxis\":{\"endlinecolor\":\"#2a3f5f\",\"gridcolor\":\"white\",\"linecolor\":\"white\",\"minorgridcolor\":\"white\",\"startlinecolor\":\"#2a3f5f\"},\"type\":\"carpet\"}],\"table\":[{\"cells\":{\"fill\":{\"color\":\"#EBF0F8\"},\"line\":{\"color\":\"white\"}},\"header\":{\"fill\":{\"color\":\"#C8D4E3\"},\"line\":{\"color\":\"white\"}},\"type\":\"table\"}],\"barpolar\":[{\"marker\":{\"line\":{\"color\":\"#E5ECF6\",\"width\":0.5},\"pattern\":{\"fillmode\":\"overlay\",\"size\":10,\"solidity\":0.2}},\"type\":\"barpolar\"}],\"pie\":[{\"automargin\":true,\"type\":\"pie\"}]},\"layout\":{\"autotypenumbers\":\"strict\",\"colorway\":[\"#636efa\",\"#EF553B\",\"#00cc96\",\"#ab63fa\",\"#FFA15A\",\"#19d3f3\",\"#FF6692\",\"#B6E880\",\"#FF97FF\",\"#FECB52\"],\"font\":{\"color\":\"#2a3f5f\"},\"hovermode\":\"closest\",\"hoverlabel\":{\"align\":\"left\"},\"paper_bgcolor\":\"white\",\"plot_bgcolor\":\"#E5ECF6\",\"polar\":{\"bgcolor\":\"#E5ECF6\",\"angularaxis\":{\"gridcolor\":\"white\",\"linecolor\":\"white\",\"ticks\":\"\"},\"radialaxis\":{\"gridcolor\":\"white\",\"linecolor\":\"white\",\"ticks\":\"\"}},\"ternary\":{\"bgcolor\":\"#E5ECF6\",\"aaxis\":{\"gridcolor\":\"white\",\"linecolor\":\"white\",\"ticks\":\"\"},\"baxis\":{\"gridcolor\":\"white\",\"linecolor\":\"white\",\"ticks\":\"\"},\"caxis\":{\"gridcolor\":\"white\",\"linecolor\":\"white\",\"ticks\":\"\"}},\"coloraxis\":{\"colorbar\":{\"outlinewidth\":0,\"ticks\":\"\"}},\"colorscale\":{\"sequential\":[[0.0,\"#0d0887\"],[0.1111111111111111,\"#46039f\"],[0.2222222222222222,\"#7201a8\"],[0.3333333333333333,\"#9c179e\"],[0.4444444444444444,\"#bd3786\"],[0.5555555555555556,\"#d8576b\"],[0.6666666666666666,\"#ed7953\"],[0.7777777777777778,\"#fb9f3a\"],[0.8888888888888888,\"#fdca26\"],[1.0,\"#f0f921\"]],\"sequentialminus\":[[0.0,\"#0d0887\"],[0.1111111111111111,\"#46039f\"],[0.2222222222222222,\"#7201a8\"],[0.3333333333333333,\"#9c179e\"],[0.4444444444444444,\"#bd3786\"],[0.5555555555555556,\"#d8576b\"],[0.6666666666666666,\"#ed7953\"],[0.7777777777777778,\"#fb9f3a\"],[0.8888888888888888,\"#fdca26\"],[1.0,\"#f0f921\"]],\"diverging\":[[0,\"#8e0152\"],[0.1,\"#c51b7d\"],[0.2,\"#de77ae\"],[0.3,\"#f1b6da\"],[0.4,\"#fde0ef\"],[0.5,\"#f7f7f7\"],[0.6,\"#e6f5d0\"],[0.7,\"#b8e186\"],[0.8,\"#7fbc41\"],[0.9,\"#4d9221\"],[1,\"#276419\"]]},\"xaxis\":{\"gridcolor\":\"white\",\"linecolor\":\"white\",\"ticks\":\"\",\"title\":{\"standoff\":15},\"zerolinecolor\":\"white\",\"automargin\":true,\"zerolinewidth\":2},\"yaxis\":{\"gridcolor\":\"white\",\"linecolor\":\"white\",\"ticks\":\"\",\"title\":{\"standoff\":15},\"zerolinecolor\":\"white\",\"automargin\":true,\"zerolinewidth\":2},\"scene\":{\"xaxis\":{\"backgroundcolor\":\"#E5ECF6\",\"gridcolor\":\"white\",\"linecolor\":\"white\",\"showbackground\":true,\"ticks\":\"\",\"zerolinecolor\":\"white\",\"gridwidth\":2},\"yaxis\":{\"backgroundcolor\":\"#E5ECF6\",\"gridcolor\":\"white\",\"linecolor\":\"white\",\"showbackground\":true,\"ticks\":\"\",\"zerolinecolor\":\"white\",\"gridwidth\":2},\"zaxis\":{\"backgroundcolor\":\"#E5ECF6\",\"gridcolor\":\"white\",\"linecolor\":\"white\",\"showbackground\":true,\"ticks\":\"\",\"zerolinecolor\":\"white\",\"gridwidth\":2}},\"shapedefaults\":{\"line\":{\"color\":\"#2a3f5f\"}},\"annotationdefaults\":{\"arrowcolor\":\"#2a3f5f\",\"arrowhead\":0,\"arrowwidth\":1},\"geo\":{\"bgcolor\":\"white\",\"landcolor\":\"#E5ECF6\",\"subunitcolor\":\"white\",\"showland\":true,\"showlakes\":true,\"lakecolor\":\"white\"},\"title\":{\"x\":0.05},\"mapbox\":{\"style\":\"light\"}}},\"scene\":{\"domain\":{\"x\":[0.0,1.0],\"y\":[0.0,1.0]},\"xaxis\":{\"title\":{\"text\":\"x\"}},\"yaxis\":{\"title\":{\"text\":\"y\"}},\"zaxis\":{\"title\":{\"text\":\"z\"}}},\"legend\":{\"tracegroupgap\":0},\"title\":{\"text\":\"3D Scatter Plot\"}},                        {\"responsive\": true}                    ).then(function(){\n",
              "                            \n",
              "var gd = document.getElementById('12a455ba-ed96-4788-9da1-073383beb1fe');\n",
              "var x = new MutationObserver(function (mutations, observer) {{\n",
              "        var display = window.getComputedStyle(gd).display;\n",
              "        if (!display || display === 'none') {{\n",
              "            console.log([gd, 'removed!']);\n",
              "            Plotly.purge(gd);\n",
              "            observer.disconnect();\n",
              "        }}\n",
              "}});\n",
              "\n",
              "// Listen for the removal of the full notebook cells\n",
              "var notebookContainer = gd.closest('#notebook-container');\n",
              "if (notebookContainer) {{\n",
              "    x.observe(notebookContainer, {childList: true});\n",
              "}}\n",
              "\n",
              "// Listen for the clearing of the current output cell\n",
              "var outputEl = gd.closest('.output');\n",
              "if (outputEl) {{\n",
              "    x.observe(outputEl, {childList: true});\n",
              "}}\n",
              "\n",
              "                        })                };                            </script>        </div>\n",
              "</body>\n",
              "</html>"
            ]
          },
          "metadata": {}
        }
      ]
    }
  ]
}